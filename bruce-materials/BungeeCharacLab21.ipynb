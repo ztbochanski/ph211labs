{
 "cells": [
  {
   "cell_type": "markdown",
   "metadata": {},
   "source": [
    "# Bungee Characterization Lab\n",
    "## PH 211 COCC\n",
    "### Bruce Emerson 1/20/2021\n",
    "\n",
    "This notebook is meant to provide tools and discussion to support data analysis and presentation as you generate your lab reports. \n",
    "\n",
    "[Bungee Characterization (Bungee I)](http://coccweb.cocc.edu/bemerson/PhysicsGlobal/Courses/PH211/PH211Materials/PH211Labs/PH211LabbungeeI.html) and [Bungee I Lab Discussion](http://coccweb.cocc.edu/bemerson/PhysicsGlobal/Courses/PH211/PH211Materials/PH211Labs/PH211LabDbungeeI.html)\n",
    "\n",
    "In this lab we are gathering some data, entering the data into the notebook, plotting the data as a scatterplot, plotting a physics model of the bungee, and finally looking for patterns through normalizing the data.\n",
    "\n",
    "For the formal lab report you will want to create your own description of what you understand the process and intended outcome of the lab is. Please don't just copy the purpose statement from the lab page."
   ]
  },
  {
   "cell_type": "markdown",
   "metadata": {},
   "source": [
    "## Dependencies\n",
    "\n",
    "This is where we load in the various libraries of python tools that are needed for the particular work we are undertaking.  \n",
    "  \n",
    "```numpy``` is a numerical tools library - often imported as np. ```numpy``` also contains the statistical tools that we will use in this lab. There are other libraries dedicated to statistical tools but 'numpy' has everything we need.  \n",
    "```matplotlib```is a 'MATLAB like' library. \n",
    "```matplotlib.pyplot``` is often imported as ```plt``` to make it easier to use. ```matplotlib``` has the plotting tools that we need for this lab.  \n",
    "\n",
    "The following code cell will need to be run first before any other code cells."
   ]
  },
  {
   "cell_type": "code",
   "execution_count": 9,
   "metadata": {},
   "outputs": [],
   "source": [
    "import numpy as np\n",
    "import matplotlib as mplot\n",
    "import matplotlib.pyplot as plt\n"
   ]
  },
  {
   "cell_type": "markdown",
   "metadata": {},
   "source": [
    "## Data Entry (Lists/Vectors)\n",
    "\n",
    "As we learned last week we can manually enter our data in as lists. See last weeks lab for reminders if needed. In this lab we are working with data pairs (x,y data). There are a number of ways of doing this but the most conceptually direct approach is to create an ordered list of the xdata and the ydata separately. Notice that I can 'fold' long lines of data by entering a new line after the comma. This is handy when manually entering data. The data shown here is completely manufactured but has some of the same characteristics as the data you are gathering.\n",
    "\n",
    "Be aware that you will gathering two sets of data yourself and getting a third data set from another group. Plan out how you will keep track of each data set with thoughtful naming choices."
   ]
  },
  {
   "cell_type": "markdown",
   "metadata": {},
   "source": [
    "### Comments in Code:\n",
    "\n",
    "From this point going forward I will be looking for consistent description of what is happening in the code cells both within and before the code cell. You are of little value to a future employer if they can't hand you work to another employee who can make sense of what you did. A good metric is you should spend at least as much effort commenting and explaining what you're doing as you do actually doing the work.\n",
    "\n",
    "In a python code cell any line that starts with a '#' will be ignored by python and interpreted as a comment. \n",
    "\n",
    "```# this is the actual data from your experiment```\n",
    "\n",
    "This is a typical format of a comment that is easy to read in the code. It is sometimes helpful to comment at the end of a line to explain particular items in that line.\n",
    "\n",
    "```ydata2 = [2., 3.] # I can also comment at the end of a line```"
   ]
  },
  {
   "cell_type": "code",
   "execution_count": 10,
   "metadata": {},
   "outputs": [
    {
     "name": "stdout",
     "output_type": "stream",
     "text": [
      "stretch data: [3.23961446, 12.3658087, 27.08638038, 36.88808393, 48.5373278, 43.90496472, 75.81073494, 105.42389529, 123.53497036, 158.87537602]\n",
      "force data: [0.62146893, 1.53513096, 3.97591135, 4.54284862, 6.23415512, 5.12951366, 6.1733864, 7.9524996, 8.90050684, 10.29383595]\n"
     ]
    }
   ],
   "source": [
    "# this is the actual data from your experiment\n",
    "xdata1 = [3.23961446, 12.3658087, 27.08638038, 36.88808393,\n",
    "         48.5373278, 43.90496472, 75.81073494, 105.42389529,\n",
    "         123.53497036, 158.87537602]\n",
    "ydata1 = [0.62146893, 1.53513096, 3.97591135,\n",
    "         4.54284862, 6.23415512, 5.12951366,\n",
    "         6.1733864, 7.9524996, 8.90050684, 10.29383595]\n",
    "\n",
    "# these are a couple of specific data point I want to scatterplot on top of my plot\n",
    "xdata2 = [60., 100.]\n",
    "ydata2 = [2., 3.] # I can also comment at the end of a line\n",
    "\n",
    "# print out and check my data\n",
    "print(\"stretch data:\",xdata1)\n",
    "print(\"force data:\",ydata1)"
   ]
  },
  {
   "cell_type": "markdown",
   "metadata": {},
   "source": [
    "## Number of Data Points:\n",
    "\n",
    "Because we are scatter plotting the data we need to be sure that every x value has a related y value or the plotting routines will complain. Previously we learned to use the ```len()``` function to determine the number of data points in a list. We do that again here.\n",
    "\n",
    "#### Extra: Conditional Statements:\n",
    "\n",
    "It seems reasonable that we could ask python to check whether the two data sets are the same length and we can. There are a number of what are called conditional statements. The \"if-else' statement is one of these. \n",
    "\n",
    "[if-else examples](https://pythonguides.com/python-if-else/)\n",
    "\n",
    "```\n",
    "if (xdata1length = ydata1length):\n",
    "    print(\"Looks good:)\")\n",
    "    else\n",
    "    print(\"Something is wrong here!!!\")\n",
    "```\n",
    "Inside the parentheses is the conditional statement which, in this case, asks if ```xdata1length = ydata1length```. 'If' this statement is true then python will look at the next line(s) to see what it should do. If the conditional statement is false (not true) python will look for an ```else``` command and do whatever is on the lines after the else statement. Python expects that everything related to the ```if-else``` statement will be indented after the line where it begins. The next line of code (or even a blank line) that is NOT indented represents the end of the conditional statement. Just play with a few things in the statement if you have time and see what happens."
   ]
  },
  {
   "cell_type": "markdown",
   "metadata": {},
   "source": [
    "***\n",
    "## Lab Deliverable:\n",
    "\n",
    "For your lab notebook you will include the usual 'header' information we talked about last week in the first cell of the lab (a markdown cell for sure). After the header cell describe the process by which you collected data from you micro-bungee cord. The actual data can be entered directly into the code. \n",
    "\n",
    "Insert an appropriate title and describe how you determined the varibility of your data across the range of your data points. At some point in your description you need to articulate, in percentage terms, a numerical value for variability of your data that matches your description and data.\n",
    "\n",
    "***"
   ]
  },
  {
   "cell_type": "code",
   "execution_count": 11,
   "metadata": {},
   "outputs": [
    {
     "name": "stdout",
     "output_type": "stream",
     "text": [
      "number of data points (x): 10\n",
      "number of data points (y): 10\n",
      "Looks good:)\n"
     ]
    }
   ],
   "source": [
    "# determine the lengths of the data lists\n",
    "xdata1length = len(xdata1)\n",
    "ydata1length = len(ydata1)\n",
    "\n",
    "# print out the lengths- visually check that they are the same\n",
    "print(\"number of data points (x):\", xdata1length)\n",
    "print(\"number of data points (y):\", ydata1length)\n",
    "\n",
    "if (xdata1length == ydata1length):\n",
    "    print(\"Looks good:)\")\n",
    "else:\n",
    "    print(\"Something is wrong here!!!\")\n",
    "\n",
    "    \n"
   ]
  },
  {
   "cell_type": "markdown",
   "metadata": {},
   "source": [
    "### Scatter Plots \n",
    "\n",
    "Most data that we will want to analyze in physics is (x,y) data. For this type of data the typical plot type is called a scatter plot which is just what you think of when you plot individual data points.\n",
    "\n",
    "To begin the process in python we need to create a container for the multiple plots we will be creating. One way (not the only way) to dothis is with the ```plt.subplots``` function. This creates a container (called fig1 in this case) and a first set of axes called ax1 in this case. \n",
    "\n",
    "[pyplot subplots documentation](https://matplotlib.org/api/_as_gen/matplotlib.pyplot.subplots.html)\n",
    "\n",
    "We can then layer multiple plots onto these axes (ax1) by plotting and replotting until we are ready to show the whole thing. In this cell I am only creating a single plot of the first data set.\n",
    "\n",
    "[pyplot scatter documentation](https://matplotlib.org/3.1.0/api/_as_gen/matplotlib.pyplot.scatter.html) \n",
    "\n",
    "To try to keep things clearer for myself I have typically defined a new figure and a new set of axes for each plot. You will find that if you look at samples from the web that many coders jsut reuse the same labels over and over again. This works from a coding perspective but it violates a core expectation for all sciences that your code be clear in its communication. I encourage you to consider the choices you make in this regard."
   ]
  },
  {
   "cell_type": "code",
   "execution_count": 25,
   "metadata": {},
   "outputs": [
    {
     "data": {
      "image/png": "[encoded data removed]",
      "text/plain": [
       "<Figure size 720x648 with 1 Axes>"
      ]
     },
     "metadata": {
      "needs_background": "light"
     },
     "output_type": "display_data"
    }
   ],
   "source": [
    "# create a figure with a set of axes as we did with histograms\n",
    "fig1, ax1 = plt.subplots()\n",
    "\n",
    "# scatter plot data set 1\n",
    "ax1.scatter(xdata1, ydata1)\n",
    "\n",
    "# set up labels and titles for the plot and turn on the grid lines\n",
    "ax1.set(xlabel='independent variable (units)', ylabel='dependent variable (units)',\n",
    "       title='My Data from Lab')\n",
    "ax1.grid()\n",
    "\n",
    "# Set the size of my plot for better visibility\n",
    "fig1.set_size_inches(10, 9)\n",
    "\n",
    "# uncomment this line if I want to save a png of the plot for other purposes\n",
    "#fig1.savefig(\"myplot.png\")\n",
    "plt.show()"
   ]
  },
  {
   "cell_type": "markdown",
   "metadata": {},
   "source": [
    "***\n",
    "## Lab Deliverable:\n",
    "\n",
    "After you generate the plot of your data in your notebook, with appropriate labels, then insert a markdown cell where you describe the basic features of your data. Do the data fit a pattern? Are there data points, like the 6th blue data point here, that seem out of place? Are there gaps in the data that you did or didn't go back and fill in? Are the places in the data where the shape of the plot changes and it may be worth taking more data. \n",
    "\n",
    "***"
   ]
  },
  {
   "cell_type": "markdown",
   "metadata": {},
   "source": [
    "### Adding more data\n",
    "\n",
    "When I want to add more data I just make another plot on a new set of axes. I have to start a new container (fig) because the ```plt.show()``` call blocks me from adding more information to the plot (there is something in this that is still not clear to me and perhaps soon I will "
   ]
  },
  {
   "cell_type": "code",
   "execution_count": 21,
   "metadata": {},
   "outputs": [
    {
     "data": {
      "image/png": "[encoded data removed]",
      "text/plain": [
       "<Figure size 720x648 with 1 Axes>"
      ]
     },
     "metadata": {
      "needs_background": "light"
     },
     "output_type": "display_data"
    }
   ],
   "source": [
    "# a new set of axes\n",
    "fig2, ax2 = plt.subplots()\n",
    "\n",
    "# first data set\n",
    "ax2.scatter(xdata1, ydata1, color = 'blue')\n",
    "\n",
    "# second data set\n",
    "ax2.scatter(xdata2, ydata2, color = 'red')\n",
    "\n",
    "# labels etc\n",
    "ax2.set(xlabel='independent variable (units)', ylabel='dependent variable (units)',\n",
    "       title='My Data from Lab')\n",
    "ax2.grid()\n",
    "\n",
    "# Set the size of my plot for better visibility\n",
    "fig2.set_size_inches(10, 9)\n",
    "\n",
    "#fig.savefig(\"myplot.png\")\n",
    "plt.show()"
   ]
  },
  {
   "cell_type": "markdown",
   "metadata": {},
   "source": [
    "### Discussion: Deliverable 2\n",
    "\n",
    "The second deliverable asks you to consider the data from your plot(s) and describe whether it has features that are consistent with an ideal physics spring (Hooke's Law). Are some regions linear? ....sort of? Is the spring stiffer at the beginning or at the end of data? Explain your answer. Do both sets of data show similar behavior? How or how not?"
   ]
  },
  {
   "cell_type": "markdown",
   "metadata": {},
   "source": [
    "### Add physics model...\n",
    "\n",
    "For the lab you are asked to draw straight lines that 'model' (describe) the behavior of the early and latter parts of your data sets. When we are creating physics models we are now generating 'data points' from a mathematical description. Again, there are a number of ways to do this but what I will show here is typical of physics and engineering models.\n",
    "\n",
    "It starts by defining a set of x values.```numpy.linspace()``` is a tool for doing this and because we did ```import numpy as np``` it shows in the code as ```np.linspace()```\n",
    "\n",
    "[numpy.linspace documentation](https://docs.scipy.org/doc/numpy/reference/generated/numpy.linspace.html)\n",
    "\n",
    "What the function does is generate a list of values that are evenly distributed between 'begin' and 'end' in ```np.linspace('begin','end',# values)```  \n",
    "\n",
    "In this lab we are exploring linear models (Hooke's Law) for the behavior of the bungee (spring) which means we need a slope and a y intercept. One the nice features of lists is that if I multiply a list by a number I get a new list with the same number of elements each of which is multiplied by the number. Be careful. The calculation that looks like it's relating a single x and y value is really connecting a list of x and y values."
   ]
  },
  {
   "cell_type": "code",
   "execution_count": 23,
   "metadata": {},
   "outputs": [],
   "source": [
    "# actual model parameters - slope and intercept\n",
    "model1slope = .12\n",
    "model2slope = .045\n",
    "model1int = 0.\n",
    "model2int = 3.\n",
    "\n",
    "# range of x values -- choose lower and upper limits of range\n",
    "model1x = np.linspace(0.,50.,20)\n",
    "model2x = np.linspace(30.,170.,20)\n",
    "\n",
    "# in case you want to check how many values are generated\n",
    "# modellength = len(model1x)\n",
    "# print(modellength)\n",
    "\n",
    "# generate y values from model\n",
    "model1y = model1slope*model1x + model1int\n",
    "model2y = model2slope*model2x + model2int\n"
   ]
  },
  {
   "cell_type": "markdown",
   "metadata": {},
   "source": [
    "### Plotting References\n",
    "\n",
    "There are a range of different marks that you can use to plot your data points on the scatter plot. Here is the link...  \n",
    "\n",
    "[marker types for scatter plot](https://matplotlib.org/3.1.0/api/markers_api.html#module-matplotlib.markers)\n",
    "\n",
    "There are also a range of colors that you can use for all plots. I am not yet clear when some can or can't be used but here's the reference if you want to experiment...\n",
    "\n",
    "[matplotlib named colors](https://matplotlib.org/3.1.0/gallery/color/named_colors.html)\n",
    "\n",
    "When plotting lines (```ax2.plot()```) there are a few line styles you can use from solid lines to various dashed lines. Here's the reference....\n",
    "\n",
    "[matplotlib line styles for plot](https://matplotlib.org/gallery/lines_bars_and_markers/line_styles_reference.html)\n",
    "\n",
    "You will notice that I added a label to each plot. This is then picked up and attached to each plot and displayed in the legend. You can decide where to place the legend on the plot by choosing different values for 'loc'. Play with this to get a helpful placement."
   ]
  },
  {
   "cell_type": "code",
   "execution_count": 24,
   "metadata": {},
   "outputs": [
    {
     "data": {
      "image/png": "[encoded data removed]",
      "text/plain": [
       "<Figure size 720x648 with 1 Axes>"
      ]
     },
     "metadata": {
      "needs_background": "light"
     },
     "output_type": "display_data"
    }
   ],
   "source": [
    "fig3, ax3 = plt.subplots()\n",
    "# scatter plot of the data\n",
    "ax3.scatter(xdata1, ydata1, marker = 'x', color = 'black', label = \"82 cm Bungee\")\n",
    "\n",
    "# draw the two lines that represent my model\n",
    "ax3.plot(model1x, model1y, color = 'red', linestyle = ':', linewidth = 3., label = \"initial\")\n",
    "ax3.plot(model2x, model2y, color = 'green', linestyle = '--', linewidth = 2., label = \"tail\")\n",
    "\n",
    "# set up overall plot labels\n",
    "ax2.set(xlabel='independent variable (units)', ylabel='dependent variable (units)',\n",
    "       title='data and model')\n",
    "ax3.grid()\n",
    "\n",
    "# Set the size of my plot for better visibility\n",
    "fig3.set_size_inches(10, 9)\n",
    "\n",
    "# this creates a key to the meaning of the different symbols on the plot\n",
    "plt.legend(loc= 4)\n",
    "plt.show()"
   ]
  },
  {
   "cell_type": "markdown",
   "metadata": {},
   "source": [
    "### Discussion: Deliverable III\n",
    "\n",
    "So what does your plot above mean? What explanation of the behavior of the bungee is suggested by the two line fit?"
   ]
  },
  {
   "cell_type": "markdown",
   "metadata": {},
   "source": [
    "### Normalization\n",
    "\n",
    "Normalization is the process of trying to see if a particular feature of the data has a simple dependence. In this case each bungee is a different length but otherwise they seem like would behave very similarly. To explore this question we normalize the stretch by dividing it by the original length of the cord. Do this for **both** sets of data and then replot.\n",
    "\n",
    "The value of this normalization exercise is the impact of plotting data from multiple bungees. What I show here is the normalization of just one bungee. You will need to do 2 or 3 depending on how much data you have and plot them all simultaneously. Using different colors for each data set will help keep track of which ones are which.\n",
    "\n",
    "You will note that I couldn't normalize by doing the obvious thing - ```xdata1norm = xdata1/length1```. Python doesn't like this (try it and look at the error message) so I had to hunt around and found this useful function. There may be other ways to accomplish this task but this works so that's where I'm going. As usual here is the documentation link:\n",
    "\n",
    "[numpy.true_divide](https://docs.scipy.org/doc/numpy-1.13.0/reference/generated/numpy.true_divide.html)"
   ]
  },
  {
   "cell_type": "code",
   "execution_count": 12,
   "metadata": {},
   "outputs": [],
   "source": [
    "length1 = 75.\n",
    "xdata1norm = np.true_divide(xdata1,length1)"
   ]
  },
  {
   "cell_type": "code",
   "execution_count": 13,
   "metadata": {},
   "outputs": [
    {
     "data": {
      "image/png": "[encoded data removed]",
      "text/plain": [
       "<Figure size 432x288 with 1 Axes>"
      ]
     },
     "metadata": {
      "needs_background": "light"
     },
     "output_type": "display_data"
    }
   ],
   "source": [
    "\n",
    "fig, axn = plt.subplots()\n",
    "axn.scatter(xdata1norm, ydata1)\n",
    "\n",
    "axn.set(xlabel='independent variable (units)', ylabel='dependent variable (units)',\n",
    "       title='My Data from Lab')\n",
    "axn.grid()\n",
    "\n",
    "#fig.savefig(\"myplot.png\")\n",
    "plt.show()"
   ]
  },
  {
   "cell_type": "markdown",
   "metadata": {},
   "source": [
    "### Discussion: Deliverable V\n",
    "\n",
    "What does it mean? What we expect is that the data for all the different bungees makes a single shape as opposed to a family of similar shapes. How might this help us predict the behavior of a bungee of a different length?"
   ]
  },
  {
   "cell_type": "markdown",
   "metadata": {},
   "source": [
    "## Reflection\n",
    "\n",
    "As usual I learned a bunch of new stuff in the process of creating this notebook as a framework for your lab report. Thanks."
   ]
  },
  {
   "cell_type": "markdown",
   "metadata": {},
   "source": [
    "### Extensions\n",
    "\n",
    "Extensions are ideas that I didn't have time to explore or develop fully for this lab. These are offered as opportunities for students with more programming experience than is typical for students in the class.\n",
    "\n",
    "#### Create a separate legend for reporting slopes of the fit lines\n",
    "\n",
    "I feel like this might be nice at some future time.\n",
    "\n",
    "#### Least squares fit of straight line to data\n",
    "\n",
    "I am strongly in favor of drawing our own lines on the data because it makes us think about what the terms in the line mean in contect. Never the less I would love to know how to get numpy to do a least squares polynomial fit that I can hold to a linear function. Would also be interested in a higher order ($x^2$ or $x^3$) fit to the whole data set.\n",
    "\n",
    "#### Standard Deviation\n",
    "\n",
    "This is a long way out. Each data point has a certain amount of uncertainty due to issues of reproducibility (mostly due to heating of the bungee). Is there a straightforward way to attach a bar of the correct length (either horizontally or vertically) to represent the standard deviation."
   ]
  },
  {
   "cell_type": "code",
   "execution_count": null,
   "metadata": {},
   "outputs": [],
   "source": []
  }
 ],
 "metadata": {
  "kernelspec": {
   "display_name": "Python 3",
   "language": "python",
   "name": "python3"
  },
  "language_info": {
   "codemirror_mode": {
    "name": "ipython",
    "version": 3
   },
   "file_extension": ".py",
   "mimetype": "text/x-python",
   "name": "python",
   "nbconvert_exporter": "python",
   "pygments_lexer": "ipython3",
   "version": "3.8.5"
  }
 },
 "nbformat": 4,
 "nbformat_minor": 4
}
