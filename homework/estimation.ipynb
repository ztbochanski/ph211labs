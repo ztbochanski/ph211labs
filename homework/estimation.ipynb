{
 "metadata": {
  "language_info": {
   "codemirror_mode": {
    "name": "ipython",
    "version": 3
   },
   "file_extension": ".py",
   "mimetype": "text/x-python",
   "name": "python",
   "nbconvert_exporter": "python",
   "pygments_lexer": "ipython3",
   "version": "3.9.1-final"
  },
  "orig_nbformat": 2,
  "kernelspec": {
   "name": "python3",
   "display_name": "Python 3",
   "language": "python"
  }
 },
 "nbformat": 4,
 "nbformat_minor": 2,
 "cells": [
  {
   "cell_type": "code",
   "execution_count": null,
   "metadata": {},
   "outputs": [],
   "source": []
  },
  {
   "source": [
    "# Estimation Assessment\n",
    "## Physics 211 - Bruce Emerson\n",
    "### January 25, 2021\n",
    "#### Zachary Bochanski\n",
    "\n",
    "Estimation of the size of a mason jar, size of a coffee bean, number of total beans and density of beans in centimeters.\n",
    "\n",
    "Order of operations: \n",
    "- Take care of all the constants required\n",
    "- Estimate bean size\n",
    "- Find jar dimensions\n",
    "- Find jar volume\n",
    "- Find bean volume\n",
    "- Find beans per volume"
   ],
   "cell_type": "markdown",
   "metadata": {}
  },
  {
   "source": [
    "### Imports, constants\n",
    "\n",
    "numpy package for math operations.\n",
    "\n",
    "JAR_RADIUS constant for jar radius cm\n",
    "<br/>\n",
    "JAR_HEIGHT constant for jar height cm \n",
    "<br/>\n",
    "BEAN_LENGTH constant for bean length cm\n",
    "<br/>\n",
    "BEAN_WIDTH constant for bean width cm\n",
    "<br/>\n",
    "BEAN_HEIGHT constant for bean height cm\n",
    "<br/>\n",
    "PI constant for $ \\pi $ \n"
   ],
   "cell_type": "markdown",
   "metadata": {}
  },
  {
   "cell_type": "code",
   "execution_count": 13,
   "metadata": {},
   "outputs": [],
   "source": [
    "import numpy as np\n",
    "\n",
    "JAR_RADIUS = None\n",
    "JAR_HEIGHT = None\n",
    "BEAN_LENGTH = None\n",
    "BEAN_WIDTH = None\n",
    "BEAN_HEIGHT = None\n",
    "PI = np.pi"
   ]
  },
  {
   "source": [
    "### Part I: Unit sizes\n",
    "\n",
    "First thing is taking a look at the size of a bean. The bean size becomes a unit for determining measurement totals and from there calculations made about jar size, bean density, bean volume etc.\n",
    "\n",
    "Looking at one bean, as there happens to be a bag open from this morning, they are about one finger-nail long and the width and height are about half. \n",
    "\n",
    "One bean's dimenshions look to be about:\n",
    "\n",
    "$ bean=.4cm\\: x\\: .5cm\\: x\\: 1cm\\: $\n",
    "\n",
    "1 bean_length = 1cm"
   ],
   "cell_type": "markdown",
   "metadata": {}
  },
  {
   "cell_type": "code",
   "execution_count": 14,
   "metadata": {},
   "outputs": [],
   "source": [
    "BEAN_LENGTH = 1\n",
    "BEAN_WIDTH = .5\n",
    "BEAN_HEIGHT = .4"
   ]
  },
  {
   "source": [
    "### Part II: Jar size in bean units\n",
    "\n",
    "Now that average bean size has been estimated the `bean unit` can be applied to the image of the jar.\n",
    "\n",
    "Looks like this jar has a diameter of about `8 bean_lengths` and the height is `12 bean_lengths` which it has been determined 1 bean_length is *1cm*:\n",
    "\n",
    "![bean_diameter](https://github.com/ztbochanski/physics-211/raw/main/images/bean_jar.jpg)\n"
   ],
   "cell_type": "markdown",
   "metadata": {}
  },
  {
   "cell_type": "code",
   "execution_count": 15,
   "metadata": {},
   "outputs": [],
   "source": [
    "JAR_RADIUS = 8\n",
    "JAR_HEIGHT = 12"
   ]
  },
  {
   "source": [
    "### Part III: Finding Jar Volume\n",
    "\n",
    "The equation for a cylinder:\n",
    "\n",
    "$ V = \\pi r^2h $"
   ],
   "cell_type": "markdown",
   "metadata": {}
  },
  {
   "source": [
    "jar_volume = PI*(JAR_RADIUS**2)*JAR_HEIGHT\n",
    "print(\"There are\", format(jar_volume, \".1f\"), \"cubic centimeters of jar space\")"
   ],
   "cell_type": "code",
   "metadata": {},
   "execution_count": 20,
   "outputs": [
    {
     "output_type": "stream",
     "name": "stdout",
     "text": [
      "There are 2412.7 cubic centimeters of jar space\n"
     ]
    }
   ]
  },
  {
   "source": [
    "### Part IV: Single bean volume\n",
    "\n",
    "The beans dimensions as determined in part I in cm:\n",
    "\n",
    "$ bean=.4cm\\: x\\: .5cm\\: x\\: 1cm\\: $"
   ],
   "cell_type": "markdown",
   "metadata": {}
  },
  {
   "cell_type": "code",
   "execution_count": 22,
   "metadata": {},
   "outputs": [
    {
     "output_type": "stream",
     "name": "stdout",
     "text": [
      "One bean is about 0.2 cubic centimeters\n"
     ]
    }
   ],
   "source": [
    "bean_volume = .4*.5*1\n",
    "print(\"One bean is about\", format(bean_volume, \".1f\"), \"cubic centimeters\") "
   ]
  },
  {
   "source": [
    "### Part V: Beans per cm\n",
    "\n",
    "At .2 cubic centimerters per bean how many can fit in one cubic centimeter:"
   ],
   "cell_type": "markdown",
   "metadata": {}
  },
  {
   "cell_type": "code",
   "execution_count": 23,
   "metadata": {},
   "outputs": [
    {
     "output_type": "stream",
     "name": "stdout",
     "text": [
      "2.0 beans per cm3\n"
     ]
    }
   ],
   "source": [
    "beans_per_cubiccm = 1/.5 # 10/2 = 5 beans per cm3\n",
    "print(beans_per_cubiccm, \"beans per cm3\")"
   ]
  },
  {
   "source": [
    "### Part VI: Bean space occupied (volume)\n",
    "\n",
    "The beans are almost the height of the jar, looks like the height is at 11 bean_lenghs = 11cm"
   ],
   "cell_type": "markdown",
   "metadata": {}
  },
  {
   "cell_type": "code",
   "execution_count": 21,
   "metadata": {},
   "outputs": [
    {
     "output_type": "stream",
     "name": "stdout",
     "text": [
      "There are 2211.7 cubic centimeters of coffee beans\n"
     ]
    }
   ],
   "source": [
    "bean_space_occupied = PI*(JAR_RADIUS**2)*11\n",
    "print(\"There are\", format(bean_space_occupied, \".1f\"), \"cubic centimeters of coffee beans\")"
   ]
  },
  {
   "source": [
    "### Part VII: Estimated number of beans\n",
    "\n",
    "It is estimated that there are 2 beans per centimeteter3 and 2211.7 centimeteters of bean space in the jar.\n",
    "\n",
    "How many beans? Bean space divided by beans per centimeter."
   ],
   "cell_type": "markdown",
   "metadata": {}
  },
  {
   "cell_type": "code",
   "execution_count": 27,
   "metadata": {},
   "outputs": [
    {
     "output_type": "stream",
     "name": "stdout",
     "text": [
      "It seems like there are 1106 beans in the jar\n"
     ]
    }
   ],
   "source": [
    "number_of_beans = bean_space_occupied/beans_per_cubiccm\n",
    "print(\"It seems like there are\", format(number_of_beans, \".0f\"), \"beans in the jar\")"
   ]
  },
  {
   "source": [
    "### Discussion\n",
    "\n",
    "This seems like a reasonable estimate maybe a little on the high side, the bean units were pretty generous in length and went a bit past usable jar space. The thing is I can be pretty sure that it is an overestimate. It's difficult to visualize volumes in general especial cubic centimeters. My inital reaction was 2000cm3 of beans seems a bit too high! but 2 beans per cm3 seems reasonable, and 1000 beans in a jar seems reasonable."
   ],
   "cell_type": "markdown",
   "metadata": {}
  },
  {
   "cell_type": "code",
   "execution_count": null,
   "metadata": {},
   "outputs": [],
   "source": []
  }
 ]
}