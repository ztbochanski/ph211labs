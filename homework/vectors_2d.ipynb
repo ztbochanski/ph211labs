{
 "metadata": {
  "language_info": {
   "codemirror_mode": {
    "name": "ipython",
    "version": 3
   },
   "file_extension": ".py",
   "mimetype": "text/x-python",
   "name": "python",
   "nbconvert_exporter": "python",
   "pygments_lexer": "ipython3",
   "version": 3
  },
  "orig_nbformat": 2
 },
 "nbformat": 4,
 "nbformat_minor": 2,
 "cells": [
  {
   "source": [
    "# Homework 5 vectors 2D\n",
    "## Physics 211 - Bruce Emerson\n",
    "### January 23, 2021\n",
    "#### Zachary Bochanski\n",
    "\n",
    "What is a vector? This question must first be understood in order to proceed with the homework. A vector is something like an object that has a magnitude or amount of something and a direction. The coordinate system helps us visuals vectors. A vector in two dimensions can have a direction on both the x and y coordinate plane as opposed to a one dimensional vector that would only be + or - on one axis.\n",
    "\n",
    "- Considering that a 2D vector can be visualy depicted on an x and y plane using the coordinate system, then we know each vector has two components to its direction (x,y). \n",
    "\n",
    "- Knowing that a 2D vector has two components, an x and a y, we can estimate the length of these x,y componets based on a given vector like the ones in the following exercise.\n",
    "\n",
    "1. $ \\vec{A} = 8m/s\\: directed\\: 30^{\\circ}\\: above\\: x\\: axis $\n",
    "2. $ \\vec{A} = 8m/s\\: directed\\: 30^{\\circ}\\: below\\: negative\\: x\\: axis $\n",
    "3. $ \\vec{A} = 10m/s\\: directed\\: 45^{\\circ}\\: above\\: negative\\: x\\: axis $\n",
    "4. $ \\vec{A} = 10m/s\\: directed\\: 30^{\\circ}\\: clockwise\\: negative\\: y\\: axis $\n",
    "\n",
    "\n"
   ],
   "cell_type": "markdown",
   "metadata": {}
  },
  {
   "cell_type": "code",
   "execution_count": null,
   "metadata": {},
   "outputs": [],
   "source": []
  }
 ]
}