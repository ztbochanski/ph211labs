{
 "cells": [
  {
   "cell_type": "markdown",
   "metadata": {},
   "source": [
    "# JupyterLab Introductory Lab\n",
    "## PH 211 Lab\n",
    "### January 12, 2021\n",
    "### Zachary Bochanski\n",
    "___\n",
    "\n",
    "### Install Jupyterlab\n",
    "*Adding this section to my template so I remember how I set up jupyterlab*  \n",
    "\n",
    "Here is the [JupyterLab Documentation](https://jupyterlab.readthedocs.io/en/stable/)  \n",
    "\n",
    "I'm using Homebrew as my package manager so a quick `brew install jupyterlab` in the terminal adds the jupyterlab package to my local dev tools.  \n",
    "\n",
    "Here's the specific [homebrew formulae](https://formulae.brew.sh/formula/jupyterlab)  \n",
    "\n",
    "###  Set up a virtual development environment \n",
    "A good reason to set up a *virtual environment* is so all the development takes place within one directory. *The environment has a separate working copy of python, leaving the system-wide global copy fresh and untouched* All the necessary files and \"packages\" needed to run that project will also be conveniently located in the one project directory so I can move the folder without worry. It also contains any mistakes, modifications, and disasters to one directory and doesn't wreak havoc on the whole computer. \n",
    "\n",
    "*Many projects rely on dependencies which are just packages or libraries of code. Instead of relying on a global copy of a dependency, a virtual environment ensures that the dependencies and other items stay in the same directory as the project. yay! no runtime errors down the road*  \n",
    "\n",
    "1. First, open a terminal window and `pip install virtualenv` a popular python tool that creates isolated python environments [docs](https://virtualenv.pypa.io/en/latest/index.html).  \n",
    "\n",
    "2. Now create a virtual environment using the command `virtualenv <myname>`. In this case I'm calling the name jlabenv. It's going to be my jupyter lab environment for all of physics 211.  \n",
    "\n",
    "3. Once it is created it can be activated with `source jlabenv/bin/activate`  \n",
    "\n",
    "4. Next, install `pip install --user ipykernel` which provides the IPython kernel for Jupyter.  \n",
    "\n",
    "5. Finally, `python -m ipykernel install --user --name=jlabenv` plugs in the environment we made into Jupyter! It should tell the path were the environment was added to Jupyter. Try `jupyter kernelspec list` to see all the environments that are plugged into Jupyterlab. \n",
    "\n",
    "Nice, a virtual environment with python has been configured and is ready to go for all of physics class, I can break as much stuff as I want and it will be nicely contained!  \n",
    "\n",
    "### Test it!\n",
    "\n",
    "To get started on a physics lab hit `CMD + ,`, type `term`, then type `jupyter-lab` \n",
    "\n",
    "The below image appears, the virtual environment jlabenv is available to click on to start a new notbook in an isolated development environment.\n",
    "\n",
    "<img src="images/lab1-launcher.png" />"
   ]
  },
  {
   "cell_type": "markdown",
   "metadata": {},
   "source": [
    "### LaTex Experimentation\n",
    "\n",
    "The **Pythagorean Theorem** defined for the hypotenuse `c`, if the legs are `a` and `b`:  \n",
    "\n",
    "$ \\large c = \\sqrt{{a^2 + b^2}} $ \n",
    "\n",
    "The **Quadratic Formula** where `a`, `b`, and `c` are constants:  \n",
    "\n",
    "$ \\large x = \\frac{-b \\pm \\sqrt{b^2 -4ac}}{2a} $  "
   ]
  },
  {
   "cell_type": "code",
   "execution_count": 3,
   "metadata": {},
   "outputs": [
    {
     "name": "stdout",
     "output_type": "stream",
     "text": [
      "Zachary Bochanski prefers anything but cars; cars are a very, very frustrating machines put on this earth to torture our souls\n"
     ]
    }
   ],
   "source": [
    "print(\"Zachary Bochanski prefers anything but cars; cars are a very, very frustrating machine put on this earth to torture our souls\")"
   ]
  },
  {
   "cell_type": "code",
   "execution_count": 21,
   "metadata": {},
   "outputs": [
    {
     "name": "stdout",
     "output_type": "stream",
     "text": [
      "1.578e+01\n"
     ]
    }
   ],
   "source": [
    "import math\n",
    "\n",
    "v = math.sqrt(14.494**2 + 6.243**2)\n",
    "magnitude_v = math.fabs(v) # abs() automatically will return type int while f denotes float type in case we need to enforce a float here\n",
    "\n",
    "print(format(magnitude_v, \".3e\"))"
   ]
  },
  {
   "cell_type": "markdown",
   "metadata": {},
   "source": [
    "$$ \\large v = \\sqrt{\\frac{-0.08 * 170 *\\cos{(25^\\circ)} + 170* \\sin{(25^\\circ)} + 5.280}{-.015}} $$"
   ]
  },
  {
   "cell_type": "code",
   "execution_count": 2,
   "metadata": {},
   "outputs": [
    {
     "output_type": "stream",
     "name": "stdout",
     "text": [
      "40.06874779931446\n"
     ]
    }
   ],
   "source": [
    "import numpy as np\n",
    "\n",
    "v = np.sqrt((-.08*170*np.cos(25)+120*np.sin(25)+5.280)/-.015)\n",
    "\n",
    "print(v)"
   ]
  },
  {
   "source": [],
   "cell_type": "code",
   "metadata": {},
   "execution_count": 3,
   "outputs": []
  }
 ],
 "metadata": {
  "kernelspec": {
   "display_name": "jlabenv",
   "language": "python",
   "name": "jlabenv"
  },
  "language_info": {
   "codemirror_mode": {
    "name": "ipython",
    "version": 3
   },
   "file_extension": ".py",
   "mimetype": "text/x-python",
   "name": "python",
   "nbconvert_exporter": "python",
   "pygments_lexer": "ipython3",
   "version": "3.9.1-final"
  }
 },
 "nbformat": 4,
 "nbformat_minor": 4
}
