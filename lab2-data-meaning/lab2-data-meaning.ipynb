{
 "metadata": {
  "language_info": {
   "codemirror_mode": {
    "name": "ipython",
    "version": 3
   },
   "file_extension": ".py",
   "mimetype": "text/x-python",
   "name": "python",
   "nbconvert_exporter": "python",
   "pygments_lexer": "ipython3",
   "version": "3.9.1-final"
  },
  "orig_nbformat": 2,
  "kernelspec": {
   "name": "python3",
   "display_name": "Python 3",
   "language": "python"
  }
 },
 "nbformat": 4,
 "nbformat_minor": 2,
 "cells": [
  {
   "source": [
    "# Data and Meaning Lab\n",
    "## PH 211 Lab\n",
    "### January 16, 2021\n",
    "### Zachary Bochanski\n",
    "This lab further explores the use of python and jupyter as a means of documenting labs. Python is used to carry out calculations. Dependencies are used to assist in the calculations as well as display of the data. The lab compares the height ratio (HR) of two groups. Height ratio is described as the length of a stride compared to height. The next section explains the procedure in more detail.\n",
    "\n",
    "The purpose of this is to work with individual data points. The lab uses measurements of human heigts and ditance traveled in a constant number of steps. A useful case for understanding this relationship is finding the height of an unkown individual."
   ],
   "cell_type": "markdown",
   "metadata": {}
  },
  {
   "source": [
    "### Overview\n",
    "What is the height ratio? The height ratio is the length of a step related to height. To calculate this ratio first measuremnts must be taken. The required measurements are hight in meters (m) and length of 10 steps in meters (m).\n",
    "\n",
    "### Measurements\n",
    "1. A wall indicates the starting point. With heels placed agains the wall the subjects takes 10 normal steps forward then stops.\n",
    "2. The distance from the wall to where the subject stopped is then measured. Only a tape-measure in feet (ft) is available so the measurement must be converted\n",
    "3. measure the height of the subject\n",
    "\n",
    "### Calculations\n",
    "\n",
    "1. Convert the distance of the number of steps taken to meters and height to meters.\n",
    "$$ \\large distance(m) = distance(ft)/3.2808 $$\n",
    "$$ \\large height(m) = height(ft)/3.2808 $$\n",
    "2. Divide by 10 to get the length of a single step.\n",
    "$$ \\large step = distance(m)/10 $$\n",
    "3. Divide answer by height to get HR.\n",
    "$$ \\large HR = step(m)/height(m) $$\n"
   ],
   "cell_type": "markdown",
   "metadata": {}
  },
  {
   "cell_type": "code",
   "execution_count": 1,
   "metadata": {},
   "outputs": [],
   "source": [
    "number_of_steps"
   ]
  }
 ]
}