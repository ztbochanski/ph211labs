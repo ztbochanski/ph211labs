{
 "metadata": {
  "language_info": {
   "codemirror_mode": {
    "name": "ipython",
    "version": 3
   },
   "file_extension": ".py",
   "mimetype": "text/x-python",
   "name": "python",
   "nbconvert_exporter": "python",
   "pygments_lexer": "ipython3",
   "version": "3.9.1-final"
  },
  "orig_nbformat": 2,
  "kernelspec": {
   "name": "python3",
   "display_name": "Python 3",
   "language": "python"
  }
 },
 "nbformat": 4,
 "nbformat_minor": 2,
 "cells": [
  {
   "source": [
    "# Data and Meaning Lab\n",
    "## PH 211 Lab\n",
    "### January 16, 2021\n",
    "### Zachary Bochanski\n",
    "This lab further explores the use of python and jupyter as a means of documenting labs. Python is used to carry out calculations. Dependencies are used to assist in the calculations as well as display of the data. The lab compares the height ratio (HR) of two groups. Height ratio is described as the length of a stride compared to height. The next section explains the procedure in more detail.\n",
    "\n",
    "The purpose of this is to work with individual data points. The lab uses measurements of human heigts and ditance traveled in a constant number of steps. A useful case for understanding this relationship is finding the height of an unkown individual."
   ],
   "cell_type": "markdown",
   "metadata": {}
  },
  {
   "source": [
    "### Overview\n",
    "What is the height ratio? The height ratio is the length of a step related to height. To calculate this ratio first measuremnts must be taken. The required measurements are hight in meters (m) and length of 10 steps in meters (m).\n",
    "\n",
    "### Measurements\n",
    "1. A wall indicates the starting point. With heels placed agains the wall the subjects takes 10 normal steps forward then stops.\n",
    "2. The distance from the wall to where the subject stopped is then measured. Only a tape-measure in feet (ft) is available so the measurement must be converted\n",
    "3. Measure the height of the subject\n",
    "\n",
    "### Conversions\n",
    "1. Convert the distance of the number of steps taken to meters and height to meters.\n",
    "$$ \\large distance(m) = distance(ft)/3.2808 $$\n",
    "$$ \\large height(m) = height(ft)/3.2808 $$\n",
    "\n",
    "### Calculations\n",
    "1. Divide by 10 to get the length of a single step.\n",
    "$$ \\large step = distance(m)/10 $$\n",
    "2. Divide answer by height to get HR.\n",
    "$$ \\large HR = step(m)/height(m) $$\n"
   ],
   "cell_type": "markdown",
   "metadata": {}
  },
  {
   "source": [
    "### Imports\n",
    "Import the tools needed for this lab. One library is not installed in the jlabenv using homebrew so the next step is to `pip --version` and `which python` to confirm the env is active, then `pip install matplotlib`.\n",
    "- numpy is for working with numerical data in python\n",
    "- matplotlib is for visualization of the data "
   ],
   "cell_type": "markdown",
   "metadata": {}
  },
  {
   "cell_type": "code",
   "execution_count": 3,
   "metadata": {},
   "outputs": [],
   "source": [
    "import numpy as np\n",
    "import matplotlib.mlab as mlab\n",
    "import matplotlib.pyplot as plt"
   ]
  },
  {
   "source": [
    "### Vectors\n",
    "To begin working with the data points in this lab they need to be loaded into variables to be stored somewhere. Since there are two sets of data for females and males in this lab the variables will be labled accordingly. The variable names are in accordance with PEP8, which is the current reccomended best python practices. A pep (python enhancement proposal) is a document for the community to write with the \"proper\" style so code is more readable by everyone. \n",
    "\n",
    "The PEP8 convention for variables states: \n",
    ">\"Use a lowercase single letter, word, or words. Separate words with underscores to improve readability.\"\n",
    "\n",
    "Example: `variable_x` This style is sometimes refered to as \"snake-case\"\n",
    "\n",
    "#### Variable names\n",
    "\n",
    "The following are the names of the `lists` where the height ratio data is stored for this lab.\n",
    "\n",
    "| Name             | Description                    |\n",
    "|------------------| -------------------------------|\n",
    "| female_hr_list   | female height ratios (meters)  |\n",
    "| male_hr_list     | male height ratios (meters)    |\n",
    "\n"
   ],
   "cell_type": "markdown",
   "metadata": {}
  },
  {
   "cell_type": "code",
   "execution_count": 67,
   "metadata": {},
   "outputs": [
    {
     "output_type": "stream",
     "name": "stdout",
     "text": [
      "female: 0.32\nmale: 0.42\nfemale: 0.34\nmale: 0.61\nfemale: 0.3\nmale: 0.4\nfemale: 0.4\nmale: 0.41\nfemale: 0.32\nmale: 0.59\nfemale: 0.37\nmale: 0.36\nfemale: 0.34\nmale: 0.32\nfemale: 0.38\nmale: 0.41\nfemale: 0.38\nmale: 0.42\nfemale: 0.32\nmale: 0.34\n"
     ]
    }
   ],
   "source": [
    "# the height ratio data is recorded in a csv file, the csv library is needed\n",
    "# the latest data is stored in the git repo, url library is needed, specifically request\n",
    "from csv import reader\n",
    "import urllib.request\n",
    "\n",
    "# initialize lists\n",
    "female_hr_list = []\n",
    "male_hr_list = []\n",
    "\n",
    "# url of latest csv\n",
    "url = \"https://github.com/ztbochanski/physics-211/raw/main/lab2-data-meaning/lab2-height-ratios.csv\"\n",
    "\n",
    "# open url and get response in bytes\n",
    "with urllib.request.urlopen(url) as response:\n",
    "    # skip the headers in the table\n",
    "    next(response)\n",
    "    # decode bytes from response to ascii charachters, response must be stored as strings not bytes\n",
    "    lines = []\n",
    "    for line in response:\n",
    "        line = line.decode('utf-8')\n",
    "        lines.append(line)\n",
    "\n",
    "    # read each line of csv\n",
    "    csv_reader = reader(lines)\n",
    "    for line in csv_reader:\n",
    "        # add column 1 to males\n",
    "        # print(\"female:\", line[0])\n",
    "        female_hr_list.append(line[0])\n",
    "        # add column 2 to females\n",
    "        # print(\"male:\", line[1])\n",
    "        male_hr_list.append(line[1])\n"
   ]
  },
  {
   "cell_type": "code",
   "execution_count": null,
   "metadata": {},
   "outputs": [],
   "source": []
  }
 ]
}