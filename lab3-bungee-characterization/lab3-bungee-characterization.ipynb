{
 "metadata": {
  "language_info": {
   "codemirror_mode": {
    "name": "ipython",
    "version": 3
   },
   "file_extension": ".py",
   "mimetype": "text/x-python",
   "name": "python",
   "nbconvert_exporter": "python",
   "pygments_lexer": "ipython3",
   "version": "3.9.1-final"
  },
  "orig_nbformat": 2,
  "kernelspec": {
   "name": "python3",
   "display_name": "Python 3",
   "language": "python"
  }
 },
 "nbformat": 4,
 "nbformat_minor": 2,
 "cells": [
  {
   "cell_type": "code",
   "execution_count": null,
   "metadata": {},
   "outputs": [],
   "source": []
  },
  {
   "source": [
    "# Bungee Characterization\n",
    "## PH 211 Lab\n",
    "### January 21, 2021\n",
    "### Zachary Bochanski\n",
    "\n",
    "The purpose of this notebook is for documenting the experience of modeling bungee characteristics through physics. This lab is an exercise in imporving the collection of data, storing it in variables using python, and making conclusions."
   ],
   "cell_type": "markdown",
   "metadata": {}
  },
  {
   "source": [
    "### Data collection procedure\n",
    "\n",
    "1. Secure rubber band to rack/shelf\n",
    "\n",
    "2. Measure rubber band length and attatch (hook) weigts.\n",
    "\n",
    "3. Record length (ruler) and weight (w/ scale) for each object added to band\n",
    "\n",
    "\n"
   ],
   "cell_type": "markdown",
   "metadata": {}
  },
  {
   "source": [
    "### Imports\n",
    "\n",
    "Numpy for math operations\n",
    "Matplotlib for visualizations "
   ],
   "cell_type": "markdown",
   "metadata": {}
  },
  {
   "cell_type": "code",
   "execution_count": 1,
   "metadata": {},
   "outputs": [],
   "source": [
    "import numpy as np\n",
    "import matplotlib as mplot\n",
    "import matplotlib.pyplot as plt"
   ]
  },
  {
   "source": [
    "### Lab Data\n",
    "\n",
    "Lab data is recorded in two python lists: \n",
    "\n",
    "- band_length_cm: Rubber band length in cm. \n",
    "- band_weight_g: Weight applied to the band in grams. \n",
    "\n",
    "For example, the rubber band length at rest is 5.5cm and the weight applied is 0g.\n",
    "\n",
    "Data is entered by manually entering each set of measurements and appedning them to the respective list. Using 6 points to measure the \"stretch,\" these 6 points increase in about 60g intervals to 350g where the rubber band seems like its about to break. This breaking-point seems like a good spot to stop and a possible maximum force the rubber band can withstand."
   ],
   "cell_type": "markdown",
   "metadata": {}
  },
  {
   "cell_type": "code",
   "execution_count": 106,
   "metadata": {},
   "outputs": [
    {
     "output_type": "stream",
     "name": "stdout",
     "text": [
      "--------------------\nLength (cm) Mass (g)\n--------------------\n       5.5        0\n       7.0       57\n       8.4      103\n       9.8      164\n      13.1      230\n      15.2      284\n      17.4      341\n--------------------\n"
     ]
    }
   ],
   "source": [
    "# Initialize lists for recording data\n",
    "band_length_cm = [] # dependent variable\n",
    "weight_on_band_g = [] # independent variable\n",
    "\n",
    "# Record data points measuring the length and weight of the object added to the band\n",
    "\n",
    "# Session 1: at rest\n",
    "band_length_cm.append(5.5)\n",
    "weight_on_band_g.append(0)\n",
    "\n",
    "# Session 2: hook 1\n",
    "band_length_cm.append(7)\n",
    "weight_on_band_g.append(0+57)\n",
    "\n",
    "# session 3: hook 2\n",
    "band_length_cm.append(8.4)\n",
    "weight_on_band_g.append(0+57+46)\n",
    "\n",
    "# session 4: hook 3\n",
    "band_length_cm.append(9.8)\n",
    "weight_on_band_g.append(0+57+46+61)\n",
    "\n",
    "# session 5: hook 4\n",
    "band_length_cm.append(13.1)\n",
    "weight_on_band_g.append(0+57+46+61+66)\n",
    "\n",
    "# session 6: hook 5\n",
    "band_length_cm.append(15.2)\n",
    "weight_on_band_g.append(0+57+46+61+66+54)\n",
    "\n",
    "# session 7: hook 6\n",
    "band_length_cm.append(17.4)\n",
    "weight_on_band_g.append(0+57+46+61+66+54+57)\n",
    "\n",
    "# Display data in a table: table header, setup\n",
    "header = [\"Length (cm)\", \"Mass (g)\"]\n",
    "line = '-' * 20\n",
    "\n",
    "# Print table\n",
    "print(line)\n",
    "print('{:<12s}{:>4s}'.format(header[0],header[1]))\n",
    "print(line)\n",
    "for i in range(len(band_length_cm)):\n",
    "    print('{:>10.1f}{:>9d}'.format(band_length_cm[i],weight_on_band_g[i]))\n",
    "print(line)\n"
   ]
  },
  {
   "source": [
    "### Taking a look at the data collected\n",
    "\n",
    "The data shows a general increase of approx 2cm per 50 to 60g added, no points look absurd at first glance. Next sept is applying some statistical analysis to the data.\n",
    "\n",
    "So far the data sets are seperate variables related by the mass of the object applied to the band. It seems like the logical step would be to investigate the change in each set of data and determine an mean, std, min, max, and range of the difference in change.\n",
    "\n",
    "#### First finding the difference between all the data points for both lengths and masses:"
   ],
   "cell_type": "markdown",
   "metadata": {}
  },
  {
   "cell_type": "code",
   "execution_count": 95,
   "metadata": {},
   "outputs": [
    {
     "output_type": "stream",
     "name": "stdout",
     "text": [
      "change in mass per object: ['57.0', '46.0', '61.0', '66.0', '54.0', '57.0']\n"
     ]
    }
   ],
   "source": [
    "# Loop through data set and get the difference between each element then store them in a seperate list\n",
    "# first up is band length, subtract 1 from range to not go over index\n",
    "length_change = [] # store calculations for stretch difference per mass unit\n",
    "for i in range(len(band_length_cm)-1):   \n",
    "    stretch_per_mass_added = band_length_cm[i+1]-band_length_cm[i] # x_a - x_b\n",
    "    length_change.append(format(stretch_per_mass_added, \".1f\"))\n",
    "    \n",
    "# next find the change of mass units added becuase each object (hooks) had different masses\n",
    "mass_change = [] # store calculations for stretch difference per mass unit\n",
    "for i in range(len(weight_on_band_g)-1):   \n",
    "    mass_change_per_object = weight_on_band_g[i+1]-weight_on_band_g[i] # x_a - x_b\n",
    "    mass_change.append(format(mass_change_per_object, \".1f\"))\n",
    "print(\"change in mass per object:\", mass_change)"
   ]
  },
  {
   "source": [
    "### Calculating the data collected\n",
    "\n",
    "1. The \"stretch\" of the band would be the displacement: streched length subracted by resting length at mass = 0.\n",
    "\n",
    "2. The force of the band would be the amount of newtons the band pulls up when a certain amount of force is appied downward on the band.\n",
    "\n",
    "3. In the diagram below, if the (-F_g) force of gravity = the (+F_r) force of the rubber band, and F=mg then:\n",
    "\n",
    "$$ F_r-Fg = mg $$\n",
    "\n",
    "4. Add gravity to the other side:\n",
    "\n",
    "$$ F_r=Fg $$\n",
    "\n",
    "5. Band force = gravity, then we determine stretch and try to get the band force. \n",
    "\n",
    "$$ Bandforce(n/m)*stretch(m) = m(kg)*g(m/s) $$\n",
    "\n",
    "6. It would look like:\n",
    "\n",
    "$$ Bandforce(n/m) = \\frac{m(kg)*g(m/s)}{stretch(m)} $$\n",
    "\n",
    "Freebody diagram of rubberband and forces involved\n",
    "\n",
    "![free_body](https://github.com/ztbochanski/physics-211/raw/main/images/bungeelab_freebody.jpg)"
   ],
   "cell_type": "markdown",
   "metadata": {}
  },
  {
   "cell_type": "code",
   "execution_count": 78,
   "metadata": {},
   "outputs": [],
   "source": [
    "# Calculate stretch of band in cm\n",
    "stretch_list = []\n",
    "for length in band_length_cm:\n",
    "    stretch = length-band_length_cm[0] # the starting length of 5.5 is recorded at index 0\n",
    "    stretch_list.append(format(stretch, \".1f\"))\n",
    "\n",
    "# Calculate force of band in Newtons\n",
    "k=F/"
   ]
  },
  {
   "source": [
    "## Lab Deliverable:\n",
    "\n",
    "For your lab notebook you will include the usual 'header' information we talked about last week in the first cell of the lab (a markdown cell for sure). After the header cell describe the process by which you collected data from you micro-bungee cord. The actual data can be entered directly into the code. \n",
    "\n",
    "Insert an appropriate title and describe how you determined the varibility of your data across the range of your data points. At some point in your description you need to articulate, in percentage terms, a numerical value for variability of your data that matches your description and data.\n",
    "\n",
    "***"
   ],
   "cell_type": "markdown",
   "metadata": {}
  },
  {
   "source": [
    "***\n",
    "## Lab Deliverable:\n",
    "\n",
    "After you generate the plot of your data in your notebook, with appropriate labels, then insert a markdown cell where you describe the basic features of your data. Do the data fit a pattern? Are there data points, like the 6th blue data point here, that seem out of place? Are there gaps in the data that you did or didn't go back and fill in? Are the places in the data where the shape of the plot changes and it may be worth taking more data. \n",
    "\n",
    "***"
   ],
   "cell_type": "markdown",
   "metadata": {}
  },
  {
   "source": [
    "### Discussion: Deliverable 2\n",
    "\n",
    "The second deliverable asks you to consider the data from your plot(s) and describe whether it has features that are consistent with an ideal physics spring (Hooke's Law). Are some regions linear? ....sort of? Is the spring stiffer at the beginning or at the end of data? Explain your answer. Do both sets of data show similar behavior? How or how not?"
   ],
   "cell_type": "markdown",
   "metadata": {}
  },
  {
   "source": [
    "### Discussion: Deliverable III\n",
    "\n",
    "So what does your plot above mean? What explanation of the behavior of the bungee is suggested by the two line fit?"
   ],
   "cell_type": "markdown",
   "metadata": {}
  },
  {
   "source": [
    "## Reflection\n",
    "\n",
    "As usual I learned a bunch of new stuff in the process of creating this notebook as a framework for your lab report. Thanks."
   ],
   "cell_type": "markdown",
   "metadata": {}
  },
  {
   "cell_type": "code",
   "execution_count": null,
   "metadata": {},
   "outputs": [],
   "source": [
    "e"
   ]
  }
 ]
}