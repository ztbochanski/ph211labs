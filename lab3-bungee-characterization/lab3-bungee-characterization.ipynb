{
 "metadata": {
  "language_info": {
   "codemirror_mode": {
    "name": "ipython",
    "version": 3
   },
   "file_extension": ".py",
   "mimetype": "text/x-python",
   "name": "python",
   "nbconvert_exporter": "python",
   "pygments_lexer": "ipython3",
   "version": "3.9.1-final"
  },
  "orig_nbformat": 2,
  "kernelspec": {
   "name": "python3",
   "display_name": "Python 3",
   "language": "python"
  }
 },
 "nbformat": 4,
 "nbformat_minor": 2,
 "cells": [
  {
   "cell_type": "code",
   "execution_count": null,
   "metadata": {},
   "outputs": [],
   "source": []
  },
  {
   "source": [
    "# Bungee Characterization\n",
    "## PH 211 Lab\n",
    "### January 21, 2021\n",
    "### Zachary Bochanski\n",
    "\n",
    "The purpose of this notebook is for documenting the experience of modeling bungee characteristics through physics. This lab is an exercise in imporving the collection of data, storing it in variables using python, and making conclusions."
   ],
   "cell_type": "markdown",
   "metadata": {}
  },
  {
   "source": [
    "### Data collection procedure\n",
    "\n",
    "1. Secure rubber band to rack/shelf\n",
    "\n",
    "2. Measure rubber band length and attatch (hook) weigts.\n",
    "\n",
    "3. Record length (ruler) and weight (w/ scale) for each object added to band\n",
    "\n",
    "![collecting_data](https://github.com/ztbochanski/physics-211/raw/main/images/bungee_lab.jpg)\n"
   ],
   "cell_type": "markdown",
   "metadata": {}
  },
  {
   "source": [
    "### Imports\n",
    "\n",
    "Numpy for math operations\n",
    "Matplotlib for visualizations "
   ],
   "cell_type": "markdown",
   "metadata": {}
  },
  {
   "cell_type": "code",
   "execution_count": 1,
   "metadata": {},
   "outputs": [],
   "source": [
    "import numpy as np\n",
    "import matplotlib as mplot\n",
    "import matplotlib.pyplot as plt"
   ]
  },
  {
   "source": [
    "### Lab Data\n",
    "\n",
    "Lab data is recorded in two python lists: \n",
    "\n",
    "- band_length_cm: Rubber band length in cm. \n",
    "- mass_on_band_g: Mass applied to the band in grams. \n",
    "\n",
    "For example, the rubber band length at rest is 5.5cm and the weight applied is 0g.\n",
    "\n",
    "Data is entered by manually entering each set of measurements and appedning them to the respective list. Using 6 points to measure the \"stretch,\" these 6 points increase in about 60g intervals to 350g where the rubber band seems like its about to break. This breaking-point seems like a good spot to stop and a possible maximum force the rubber band can withstand."
   ],
   "cell_type": "markdown",
   "metadata": {}
  },
  {
   "cell_type": "code",
   "execution_count": 204,
   "metadata": {},
   "outputs": [
    {
     "output_type": "stream",
     "name": "stdout",
     "text": [
      "number of data points (x): 7\nnumber of data points (y): 7\nLooks good:)\n--------------------\nLength (cm) Mass (g)\n--------------------\n       5.5        0\n       7.0       57\n       8.4      103\n       9.8      164\n      13.1      230\n      15.2      284\n      17.4      341\n--------------------\n"
     ]
    }
   ],
   "source": [
    "# Initialize lists for recording data\n",
    "band_length_cm = [] # dependent variable\n",
    "mass_on_band_g = [] # independent variable\n",
    "\n",
    "# Record data points measuring the length and weight of the object added to the band\n",
    "\n",
    "# Session 1: at rest\n",
    "band_length_cm.append(5.5)\n",
    "mass_on_band_g.append(0)\n",
    "\n",
    "# Session 2: hook 1\n",
    "band_length_cm.append(7)\n",
    "mass_on_band_g.append(0+57)\n",
    "\n",
    "# session 3: hook 2\n",
    "band_length_cm.append(8.4)\n",
    "mass_on_band_g.append(0+57+46)\n",
    "\n",
    "# session 4: hook 3\n",
    "band_length_cm.append(9.8)\n",
    "mass_on_band_g.append(0+57+46+61)\n",
    "\n",
    "# session 5: hook 4\n",
    "band_length_cm.append(13.1)\n",
    "mass_on_band_g.append(0+57+46+61+66)\n",
    "\n",
    "# session 6: hook 5\n",
    "band_length_cm.append(15.2)\n",
    "mass_on_band_g.append(0+57+46+61+66+54)\n",
    "\n",
    "# session 7: hook 6\n",
    "band_length_cm.append(17.4)\n",
    "mass_on_band_g.append(0+57+46+61+66+54+57)\n",
    "\n",
    "# barrowing Bruce's code to check data set lengths\n",
    "xdata1length = len(mass_on_band_g)\n",
    "ydata1length = len(band_length_cm)\n",
    "\n",
    "# print out the lengths- visually check that they are the same\n",
    "print(\"number of data points (x):\", xdata1length)\n",
    "print(\"number of data points (y):\", ydata1length)\n",
    "\n",
    "if (xdata1length == ydata1length):\n",
    "    print(\"Looks good:)\")\n",
    "else:\n",
    "    print(\"Something is wrong here!!!\")\n",
    "\n",
    "\n",
    "# Display data in a table: table header, setup\n",
    "header = [\"Length (cm)\", \"Mass (g)\"]\n",
    "line = '-' * 20\n",
    "\n",
    "# Print table\n",
    "print(line)\n",
    "print('{:<12s}{:>4s}'.format(header[0],header[1]))\n",
    "print(line)\n",
    "for i in range(len(band_length_cm)):\n",
    "    print('{:>10.1f}{:>9d}'.format(band_length_cm[i],mass_on_band_g[i]))\n",
    "print(line)"
   ]
  },
  {
   "source": [
    "### Taking a look at the data collected\n",
    "\n",
    "The data shows a general increase of approx 2cm per 50 to 60g added, no points look absurd at first glance. Next sept is applying some statistical analysis to the data.\n",
    "\n",
    "So far the data sets are seperate variables related by the mass of the object applied to the band. It seems like the logical step would be to investigate the change in each set of data and determine an mean, std, min, max, and range of the difference in change.\n",
    "\n",
    "#### First finding the difference between all the data points for both lengths and masses:"
   ],
   "cell_type": "markdown",
   "metadata": {}
  },
  {
   "cell_type": "code",
   "execution_count": 205,
   "metadata": {},
   "outputs": [
    {
     "output_type": "stream",
     "name": "stdout",
     "text": [
      "stretch per mass unit: [1.5, 1.4000000000000004, 1.4000000000000004, 3.299999999999999, 2.0999999999999996, 2.1999999999999993]\nchange in mass per object: [57, 46, 61, 66, 54, 57]\n"
     ]
    }
   ],
   "source": [
    "# Loop through data set and get the difference between each element then store them in a seperate list\n",
    "# first up is band length, subtract 1 from range to not go over index\n",
    "length_change = [] # store calculations for stretch difference per mass unit\n",
    "for i in range(len(band_length_cm)-1):   \n",
    "    stretch_per_mass_added = band_length_cm[i+1]-band_length_cm[i] # x_a - x_b\n",
    "    length_change.append(stretch_per_mass_added)\n",
    "print(\"stretch per mass unit:\", length_change)\n",
    "\n",
    "# next find the change of mass units added becuase each object (hooks) had different masses\n",
    "mass_change = [] # store calculations for stretch difference per mass unit\n",
    "for i in range(len(mass_on_band_g)-1):   \n",
    "    mass_change_per_object = mass_on_band_g[i+1]-mass_on_band_g[i] # x_a - x_b\n",
    "    mass_change.append(mass_change_per_object)\n",
    "print(\"change in mass per object:\", mass_change)"
   ]
  },
  {
   "source": [
    "### Variance calculations\n",
    "\n",
    "The two lsit `length_change` and `mass_change` have been made so we can now use numpy to make some sense out of the lists.\n",
    "\n",
    "- Max\n",
    "- Min\n",
    "- Range\n",
    "- Mean\n",
    "- Standard Deviation\n"
   ],
   "cell_type": "markdown",
   "metadata": {}
  },
  {
   "cell_type": "code",
   "execution_count": 127,
   "metadata": {},
   "outputs": [
    {
     "output_type": "stream",
     "name": "stdout",
     "text": [
      "Length min: 1.4\nLength max: 3.3\nLength range: 1.9\nLength mean: 2.0\nLength std: 0.7\n----------------\nMass min: 46.0\nMass max: 66.0\nMass range: 20.0\nMass mean: 56.8\nMass std: 6.1\n"
     ]
    }
   ],
   "source": [
    "length_min = np.min(length_change)\n",
    "length_max = np.max(length_change)\n",
    "length_range = length_max - length_min\n",
    "length_mean = np.mean(length_change)\n",
    "length_std = np.std(length_change)\n",
    "\n",
    "mass_min = np.min(mass_change)\n",
    "mass_max = np.max(mass_change)\n",
    "mass_range = mass_max - mass_min\n",
    "mass_mean = np.mean(mass_change)\n",
    "mass_std = np.std(mass_change)\n",
    "\n",
    "print(\"Length min:\", format(length_min, \".1f\"))\n",
    "print(\"Length max:\", format(length_max, \".1f\"))\n",
    "print(\"Length range:\", format(length_range, \".1f\"))\n",
    "print(\"Length mean:\", format(length_mean, \".1f\"))\n",
    "print(\"Length std:\", format(length_std, \".1f\"))\n",
    "print(\"-\"*16)\n",
    "print(\"Mass min:\", format(mass_min, \".1f\"))\n",
    "print(\"Mass max:\", format(mass_max, \".1f\"))\n",
    "print(\"Mass range:\", format(mass_range, \".1f\"))\n",
    "print(\"Mass mean:\", format(mass_mean, \".1f\"))\n",
    "print(\"Mass std:\", format(mass_std, \".1f\"))"
   ]
  },
  {
   "source": [
    "### Data insight\n",
    "\n",
    "From the numbers calculated above the average change in length is 2cm per mass added, the std is .7\n",
    "\n",
    "We can determine the band is displaced at at constant rate per unit of mass added in this case the average mass per hook is 56.8 grams, however the std is 6.1 which is relativly high. All the masses of the objects are on averge 6g above or below the others."
   ],
   "cell_type": "markdown",
   "metadata": {}
  },
  {
   "source": [
    "### Calculating the data collected\n",
    "\n",
    "> I read up a little about hook's law for this part, my biggest question is where does k come from. I tried to do the steps below to understand what's going on with this `k` thing.\n",
    "\n",
    "1. The \"stretch\" of the band would be the displacement: streched length subracted by resting length at mass = 0.\n",
    "\n",
    "2. The force of the band would be the amount of newtons the band pulls up when a certain amount of force is appied downward on the band.\n",
    "\n",
    "3. In the diagram below, if the (-F_g) force of gravity = the (+F_r) force of the rubber band, and F=mg then:\n",
    "\n",
    "$$ F_r-Fg = mg $$\n",
    "\n",
    "4. Add gravity to the other side:\n",
    "\n",
    "$$ F_r=Fg $$\n",
    "\n",
    "5. Band force = gravity, then we determine stretch and try to get the constant. \n",
    "\n",
    "$$ constant*stretch(m) = m(kg)*g(m/s/s) $$\n",
    "\n",
    "6. It would look like:\n",
    "\n",
    "$$ Constant = \\frac{m(kg)*g(m/s/s)}{stretch(m)} $$\n",
    "\n",
    "7. The left-over units are:\n",
    "\n",
    "$$ Constant = \\frac{kg*m}{m*s^2} $$\n",
    "\n",
    "8. Rewrite units as:\n",
    "\n",
    "$$ Constant = \\frac{N}{m} $$\n",
    "\n",
    "\n",
    "Freebody diagram of rubberband and forces involved\n",
    "\n",
    "![free_body](https://github.com/ztbochanski/physics-211/raw/main/images/bungeelab_freebody.jpg)"
   ],
   "cell_type": "markdown",
   "metadata": {}
  },
  {
   "source": [
    "### Calculating the constant\n",
    "\n",
    "1. Calculating the `displacement` at each mass measurment by looping throught band length to get displacement in meters\n",
    "\n",
    "2. Calculating the `constant` by plugging in each measurment of mass and displacement into the equation described above to get the constant for each mass that was added to the rubber band.\n"
   ],
   "cell_type": "markdown",
   "metadata": {}
  },
  {
   "cell_type": "code",
   "execution_count": 222,
   "metadata": {},
   "outputs": [
    {
     "output_type": "stream",
     "name": "stdout",
     "text": [
      "---------------------\nStretch (m) Constant (N/m)\n---------------------\n    0.015   37.240\n    0.029   34.807\n    0.043   37.377\n    0.076   29.658\n    0.097   28.693\n    0.119   28.082\n---------------------\n"
     ]
    }
   ],
   "source": [
    "GRAVITY = 9.8\n",
    "# Calculate stretch of band in cm (displacement of rubber band)\n",
    "stretch_list = [] # in m\n",
    "for length in band_length_cm:\n",
    "    stretch = length-band_length_cm[0] # the starting length of 5.5 is recorded at index 0\n",
    "    \n",
    "    # Convert to m before storing in list\n",
    "    stretch_m = stretch/100\n",
    "    stretch_list.append(stretch_m) # displacement of band\n",
    "\n",
    "\n",
    "\n",
    "# Calculate force of band in Newtons\n",
    "constant_list = []\n",
    "for i in range(len(stretch_list)):\n",
    "    # to skip when band is a rest data\n",
    "    if i == 0:\n",
    "        continue\n",
    "    else:\n",
    "        band_constant = ((mass_on_band_g[i]/1000)*GRAVITY)/stretch_list[i]\n",
    "        constant_list.append(band_constant)\n",
    "\n",
    "# Display data in a table: table header, setup\n",
    "header = [\"Stretch (m)\", \"Constant (N/m)\"]\n",
    "line = '-' * 21\n",
    "\n",
    "# Print table\n",
    "print(line)\n",
    "print('{:<12s}{:>4s}'.format(header[0],header[1]))\n",
    "print(line)\n",
    "for i in range(len(stretch_list)):\n",
    "    if i == 0:\n",
    "        continue\n",
    "    else:\n",
    "        print('{:>9.3f}{:>9.3f}'.format(stretch_list[i],constant_list[i-1]))\n",
    "print(line)"
   ]
  },
  {
   "source": [
    "### Scatter Plot\n",
    "\n",
    "Using pyplot to make a scatter plot of the data from the lab. The points are represented on and (x,y) plane. "
   ],
   "cell_type": "markdown",
   "metadata": {}
  },
  {
   "cell_type": "code",
   "execution_count": 224,
   "metadata": {},
   "outputs": [
    {
     "output_type": "display_data",
     "data": {
      "text/plain": "<Figure size 720x648 with 1 Axes>",
      "image/svg+xml": "<?xml version=\"1.0\" encoding=\"utf-8\" standalone=\"no\"?>\n<!DOCTYPE svg PUBLIC \"-//W3C//DTD SVG 1.1//EN\"\n  \"http://www.w3.org/Graphics/SVG/1.1/DTD/svg11.dtd\">\n<!-- Created with matplotlib (https://matplotlib.org/) -->\n<svg height=\"549.114375pt\" version=\"1.1\" viewBox=\"0 0 605.803125 549.114375\" width=\"605.803125pt\" xmlns=\"http://www.w3.org/2000/svg\" xmlns:xlink=\"http://www.w3.org/1999/xlink\">\n <metadata>\n  <rdf:RDF xmlns:cc=\"http://creativecommons.org/ns#\" xmlns:dc=\"http://purl.org/dc/elements/1.1/\" xmlns:rdf=\"http://www.w3.org/1999/02/22-rdf-syntax-ns#\">\n   <cc:Work>\n    <dc:type rdf:resource=\"http://purl.org/dc/dcmitype/StillImage\"/>\n    <dc:date>2021-01-27T12:08:34.790362</dc:date>\n    <dc:format>image/svg+xml</dc:format>\n    <dc:creator>\n     <cc:Agent>\n      <dc:title>Matplotlib v3.3.3, https://matplotlib.org/</dc:title>\n     </cc:Agent>\n    </dc:creator>\n   </cc:Work>\n  </rdf:RDF>\n </metadata>\n <defs>\n  <style type=\"text/css\">*{stroke-linecap:butt;stroke-linejoin:round;}</style>\n </defs>\n <g id=\"figure_1\">\n  <g id=\"patch_1\">\n   <path d=\"M 0 549.114375 \nL 605.803125 549.114375 \nL 605.803125 0 \nL 0 0 \nz\n\" style=\"fill:none;\"/>\n  </g>\n  <g id=\"axes_1\">\n   <g id=\"patch_2\">\n    <path d=\"M 40.603125 511.558125 \nL 598.603125 511.558125 \nL 598.603125 22.318125 \nL 40.603125 22.318125 \nz\n\" style=\"fill:#ffffff;\"/>\n   </g>\n   <g id=\"PathCollection_1\">\n    <defs>\n     <path d=\"M 0 3 \nC 0.795609 3 1.55874 2.683901 2.12132 2.12132 \nC 2.683901 1.55874 3 0.795609 3 0 \nC 3 -0.795609 2.683901 -1.55874 2.12132 -2.12132 \nC 1.55874 -2.683901 0.795609 -3 0 -3 \nC -0.795609 -3 -1.55874 -2.683901 -2.12132 -2.12132 \nC -2.683901 -1.55874 -3 -0.795609 -3 0 \nC -3 0.795609 -2.683901 1.55874 -2.12132 2.12132 \nC -1.55874 2.683901 -0.795609 3 0 3 \nz\n\" id=\"m5510a7c3d0\" style=\"stroke:#1f77b4;\"/>\n    </defs>\n    <g clip-path=\"url(#p6fced7595b)\">\n     <use style=\"fill:#1f77b4;stroke:#1f77b4;\" x=\"65.966761\" xlink:href=\"#m5510a7c3d0\" y=\"51.099914\"/>\n     <use style=\"fill:#1f77b4;stroke:#1f77b4;\" x=\"134.253475\" xlink:href=\"#m5510a7c3d0\" y=\"167.530986\"/>\n     <use style=\"fill:#1f77b4;stroke:#1f77b4;\" x=\"202.540188\" xlink:href=\"#m5510a7c3d0\" y=\"44.556307\"/>\n     <use style=\"fill:#1f77b4;stroke:#1f77b4;\" x=\"363.501726\" xlink:href=\"#m5510a7c3d0\" y=\"413.925689\"/>\n     <use style=\"fill:#1f77b4;stroke:#1f77b4;\" x=\"465.931796\" xlink:href=\"#m5510a7c3d0\" y=\"460.109066\"/>\n     <use style=\"fill:#1f77b4;stroke:#1f77b4;\" x=\"573.239489\" xlink:href=\"#m5510a7c3d0\" y=\"489.319943\"/>\n    </g>\n   </g>\n   <g id=\"matplotlib.axis_1\">\n    <g id=\"xtick_1\">\n     <g id=\"line2d_1\">\n      <path clip-path=\"url(#p6fced7595b)\" d=\"M 90.354873 511.558125 \nL 90.354873 22.318125 \n\" style=\"fill:none;stroke:#b0b0b0;stroke-linecap:square;stroke-width:0.8;\"/>\n     </g>\n     <g id=\"line2d_2\">\n      <defs>\n       <path d=\"M 0 0 \nL 0 3.5 \n\" id=\"m933bb972f3\" style=\"stroke:#000000;stroke-width:0.8;\"/>\n      </defs>\n      <g>\n       <use style=\"stroke:#000000;stroke-width:0.8;\" x=\"90.354873\" xlink:href=\"#m933bb972f3\" y=\"511.558125\"/>\n      </g>\n     </g>\n     <g id=\"text_1\">\n      <!-- 0.02 -->\n      <g transform=\"translate(79.222061 526.156562)scale(0.1 -0.1)\">\n       <defs>\n        <path d=\"M 31.78125 66.40625 \nQ 24.171875 66.40625 20.328125 58.90625 \nQ 16.5 51.421875 16.5 36.375 \nQ 16.5 21.390625 20.328125 13.890625 \nQ 24.171875 6.390625 31.78125 6.390625 \nQ 39.453125 6.390625 43.28125 13.890625 \nQ 47.125 21.390625 47.125 36.375 \nQ 47.125 51.421875 43.28125 58.90625 \nQ 39.453125 66.40625 31.78125 66.40625 \nz\nM 31.78125 74.21875 \nQ 44.046875 74.21875 50.515625 64.515625 \nQ 56.984375 54.828125 56.984375 36.375 \nQ 56.984375 17.96875 50.515625 8.265625 \nQ 44.046875 -1.421875 31.78125 -1.421875 \nQ 19.53125 -1.421875 13.0625 8.265625 \nQ 6.59375 17.96875 6.59375 36.375 \nQ 6.59375 54.828125 13.0625 64.515625 \nQ 19.53125 74.21875 31.78125 74.21875 \nz\n\" id=\"DejaVuSans-48\"/>\n        <path d=\"M 10.6875 12.40625 \nL 21 12.40625 \nL 21 0 \nL 10.6875 0 \nz\n\" id=\"DejaVuSans-46\"/>\n        <path d=\"M 19.1875 8.296875 \nL 53.609375 8.296875 \nL 53.609375 0 \nL 7.328125 0 \nL 7.328125 8.296875 \nQ 12.9375 14.109375 22.625 23.890625 \nQ 32.328125 33.6875 34.8125 36.53125 \nQ 39.546875 41.84375 41.421875 45.53125 \nQ 43.3125 49.21875 43.3125 52.78125 \nQ 43.3125 58.59375 39.234375 62.25 \nQ 35.15625 65.921875 28.609375 65.921875 \nQ 23.96875 65.921875 18.8125 64.3125 \nQ 13.671875 62.703125 7.8125 59.421875 \nL 7.8125 69.390625 \nQ 13.765625 71.78125 18.9375 73 \nQ 24.125 74.21875 28.421875 74.21875 \nQ 39.75 74.21875 46.484375 68.546875 \nQ 53.21875 62.890625 53.21875 53.421875 \nQ 53.21875 48.921875 51.53125 44.890625 \nQ 49.859375 40.875 45.40625 35.40625 \nQ 44.1875 33.984375 37.640625 27.21875 \nQ 31.109375 20.453125 19.1875 8.296875 \nz\n\" id=\"DejaVuSans-50\"/>\n       </defs>\n       <use xlink:href=\"#DejaVuSans-48\"/>\n       <use x=\"63.623047\" xlink:href=\"#DejaVuSans-46\"/>\n       <use x=\"95.410156\" xlink:href=\"#DejaVuSans-48\"/>\n       <use x=\"159.033203\" xlink:href=\"#DejaVuSans-50\"/>\n      </g>\n     </g>\n    </g>\n    <g id=\"xtick_2\">\n     <g id=\"line2d_3\">\n      <path clip-path=\"url(#p6fced7595b)\" d=\"M 187.907321 511.558125 \nL 187.907321 22.318125 \n\" style=\"fill:none;stroke:#b0b0b0;stroke-linecap:square;stroke-width:0.8;\"/>\n     </g>\n     <g id=\"line2d_4\">\n      <g>\n       <use style=\"stroke:#000000;stroke-width:0.8;\" x=\"187.907321\" xlink:href=\"#m933bb972f3\" y=\"511.558125\"/>\n      </g>\n     </g>\n     <g id=\"text_2\">\n      <!-- 0.04 -->\n      <g transform=\"translate(176.774508 526.156562)scale(0.1 -0.1)\">\n       <defs>\n        <path d=\"M 37.796875 64.3125 \nL 12.890625 25.390625 \nL 37.796875 25.390625 \nz\nM 35.203125 72.90625 \nL 47.609375 72.90625 \nL 47.609375 25.390625 \nL 58.015625 25.390625 \nL 58.015625 17.1875 \nL 47.609375 17.1875 \nL 47.609375 0 \nL 37.796875 0 \nL 37.796875 17.1875 \nL 4.890625 17.1875 \nL 4.890625 26.703125 \nz\n\" id=\"DejaVuSans-52\"/>\n       </defs>\n       <use xlink:href=\"#DejaVuSans-48\"/>\n       <use x=\"63.623047\" xlink:href=\"#DejaVuSans-46\"/>\n       <use x=\"95.410156\" xlink:href=\"#DejaVuSans-48\"/>\n       <use x=\"159.033203\" xlink:href=\"#DejaVuSans-52\"/>\n      </g>\n     </g>\n    </g>\n    <g id=\"xtick_3\">\n     <g id=\"line2d_5\">\n      <path clip-path=\"url(#p6fced7595b)\" d=\"M 285.459768 511.558125 \nL 285.459768 22.318125 \n\" style=\"fill:none;stroke:#b0b0b0;stroke-linecap:square;stroke-width:0.8;\"/>\n     </g>\n     <g id=\"line2d_6\">\n      <g>\n       <use style=\"stroke:#000000;stroke-width:0.8;\" x=\"285.459768\" xlink:href=\"#m933bb972f3\" y=\"511.558125\"/>\n      </g>\n     </g>\n     <g id=\"text_3\">\n      <!-- 0.06 -->\n      <g transform=\"translate(274.326956 526.156562)scale(0.1 -0.1)\">\n       <defs>\n        <path d=\"M 33.015625 40.375 \nQ 26.375 40.375 22.484375 35.828125 \nQ 18.609375 31.296875 18.609375 23.390625 \nQ 18.609375 15.53125 22.484375 10.953125 \nQ 26.375 6.390625 33.015625 6.390625 \nQ 39.65625 6.390625 43.53125 10.953125 \nQ 47.40625 15.53125 47.40625 23.390625 \nQ 47.40625 31.296875 43.53125 35.828125 \nQ 39.65625 40.375 33.015625 40.375 \nz\nM 52.59375 71.296875 \nL 52.59375 62.3125 \nQ 48.875 64.0625 45.09375 64.984375 \nQ 41.3125 65.921875 37.59375 65.921875 \nQ 27.828125 65.921875 22.671875 59.328125 \nQ 17.53125 52.734375 16.796875 39.40625 \nQ 19.671875 43.65625 24.015625 45.921875 \nQ 28.375 48.1875 33.59375 48.1875 \nQ 44.578125 48.1875 50.953125 41.515625 \nQ 57.328125 34.859375 57.328125 23.390625 \nQ 57.328125 12.15625 50.6875 5.359375 \nQ 44.046875 -1.421875 33.015625 -1.421875 \nQ 20.359375 -1.421875 13.671875 8.265625 \nQ 6.984375 17.96875 6.984375 36.375 \nQ 6.984375 53.65625 15.1875 63.9375 \nQ 23.390625 74.21875 37.203125 74.21875 \nQ 40.921875 74.21875 44.703125 73.484375 \nQ 48.484375 72.75 52.59375 71.296875 \nz\n\" id=\"DejaVuSans-54\"/>\n       </defs>\n       <use xlink:href=\"#DejaVuSans-48\"/>\n       <use x=\"63.623047\" xlink:href=\"#DejaVuSans-46\"/>\n       <use x=\"95.410156\" xlink:href=\"#DejaVuSans-48\"/>\n       <use x=\"159.033203\" xlink:href=\"#DejaVuSans-54\"/>\n      </g>\n     </g>\n    </g>\n    <g id=\"xtick_4\">\n     <g id=\"line2d_7\">\n      <path clip-path=\"url(#p6fced7595b)\" d=\"M 383.012216 511.558125 \nL 383.012216 22.318125 \n\" style=\"fill:none;stroke:#b0b0b0;stroke-linecap:square;stroke-width:0.8;\"/>\n     </g>\n     <g id=\"line2d_8\">\n      <g>\n       <use style=\"stroke:#000000;stroke-width:0.8;\" x=\"383.012216\" xlink:href=\"#m933bb972f3\" y=\"511.558125\"/>\n      </g>\n     </g>\n     <g id=\"text_4\">\n      <!-- 0.08 -->\n      <g transform=\"translate(371.879403 526.156562)scale(0.1 -0.1)\">\n       <defs>\n        <path d=\"M 31.78125 34.625 \nQ 24.75 34.625 20.71875 30.859375 \nQ 16.703125 27.09375 16.703125 20.515625 \nQ 16.703125 13.921875 20.71875 10.15625 \nQ 24.75 6.390625 31.78125 6.390625 \nQ 38.8125 6.390625 42.859375 10.171875 \nQ 46.921875 13.96875 46.921875 20.515625 \nQ 46.921875 27.09375 42.890625 30.859375 \nQ 38.875 34.625 31.78125 34.625 \nz\nM 21.921875 38.8125 \nQ 15.578125 40.375 12.03125 44.71875 \nQ 8.5 49.078125 8.5 55.328125 \nQ 8.5 64.0625 14.71875 69.140625 \nQ 20.953125 74.21875 31.78125 74.21875 \nQ 42.671875 74.21875 48.875 69.140625 \nQ 55.078125 64.0625 55.078125 55.328125 \nQ 55.078125 49.078125 51.53125 44.71875 \nQ 48 40.375 41.703125 38.8125 \nQ 48.828125 37.15625 52.796875 32.3125 \nQ 56.78125 27.484375 56.78125 20.515625 \nQ 56.78125 9.90625 50.3125 4.234375 \nQ 43.84375 -1.421875 31.78125 -1.421875 \nQ 19.734375 -1.421875 13.25 4.234375 \nQ 6.78125 9.90625 6.78125 20.515625 \nQ 6.78125 27.484375 10.78125 32.3125 \nQ 14.796875 37.15625 21.921875 38.8125 \nz\nM 18.3125 54.390625 \nQ 18.3125 48.734375 21.84375 45.5625 \nQ 25.390625 42.390625 31.78125 42.390625 \nQ 38.140625 42.390625 41.71875 45.5625 \nQ 45.3125 48.734375 45.3125 54.390625 \nQ 45.3125 60.0625 41.71875 63.234375 \nQ 38.140625 66.40625 31.78125 66.40625 \nQ 25.390625 66.40625 21.84375 63.234375 \nQ 18.3125 60.0625 18.3125 54.390625 \nz\n\" id=\"DejaVuSans-56\"/>\n       </defs>\n       <use xlink:href=\"#DejaVuSans-48\"/>\n       <use x=\"63.623047\" xlink:href=\"#DejaVuSans-46\"/>\n       <use x=\"95.410156\" xlink:href=\"#DejaVuSans-48\"/>\n       <use x=\"159.033203\" xlink:href=\"#DejaVuSans-56\"/>\n      </g>\n     </g>\n    </g>\n    <g id=\"xtick_5\">\n     <g id=\"line2d_9\">\n      <path clip-path=\"url(#p6fced7595b)\" d=\"M 480.564663 511.558125 \nL 480.564663 22.318125 \n\" style=\"fill:none;stroke:#b0b0b0;stroke-linecap:square;stroke-width:0.8;\"/>\n     </g>\n     <g id=\"line2d_10\">\n      <g>\n       <use style=\"stroke:#000000;stroke-width:0.8;\" x=\"480.564663\" xlink:href=\"#m933bb972f3\" y=\"511.558125\"/>\n      </g>\n     </g>\n     <g id=\"text_5\">\n      <!-- 0.10 -->\n      <g transform=\"translate(469.431851 526.156562)scale(0.1 -0.1)\">\n       <defs>\n        <path d=\"M 12.40625 8.296875 \nL 28.515625 8.296875 \nL 28.515625 63.921875 \nL 10.984375 60.40625 \nL 10.984375 69.390625 \nL 28.421875 72.90625 \nL 38.28125 72.90625 \nL 38.28125 8.296875 \nL 54.390625 8.296875 \nL 54.390625 0 \nL 12.40625 0 \nz\n\" id=\"DejaVuSans-49\"/>\n       </defs>\n       <use xlink:href=\"#DejaVuSans-48\"/>\n       <use x=\"63.623047\" xlink:href=\"#DejaVuSans-46\"/>\n       <use x=\"95.410156\" xlink:href=\"#DejaVuSans-49\"/>\n       <use x=\"159.033203\" xlink:href=\"#DejaVuSans-48\"/>\n      </g>\n     </g>\n    </g>\n    <g id=\"xtick_6\">\n     <g id=\"line2d_11\">\n      <path clip-path=\"url(#p6fced7595b)\" d=\"M 578.117111 511.558125 \nL 578.117111 22.318125 \n\" style=\"fill:none;stroke:#b0b0b0;stroke-linecap:square;stroke-width:0.8;\"/>\n     </g>\n     <g id=\"line2d_12\">\n      <g>\n       <use style=\"stroke:#000000;stroke-width:0.8;\" x=\"578.117111\" xlink:href=\"#m933bb972f3\" y=\"511.558125\"/>\n      </g>\n     </g>\n     <g id=\"text_6\">\n      <!-- 0.12 -->\n      <g transform=\"translate(566.984299 526.156562)scale(0.1 -0.1)\">\n       <use xlink:href=\"#DejaVuSans-48\"/>\n       <use x=\"63.623047\" xlink:href=\"#DejaVuSans-46\"/>\n       <use x=\"95.410156\" xlink:href=\"#DejaVuSans-49\"/>\n       <use x=\"159.033203\" xlink:href=\"#DejaVuSans-50\"/>\n      </g>\n     </g>\n    </g>\n    <g id=\"text_7\">\n     <!-- band stretch (m) -->\n     <g transform=\"translate(277.609375 539.834687)scale(0.1 -0.1)\">\n      <defs>\n       <path d=\"M 48.6875 27.296875 \nQ 48.6875 37.203125 44.609375 42.84375 \nQ 40.53125 48.484375 33.40625 48.484375 \nQ 26.265625 48.484375 22.1875 42.84375 \nQ 18.109375 37.203125 18.109375 27.296875 \nQ 18.109375 17.390625 22.1875 11.75 \nQ 26.265625 6.109375 33.40625 6.109375 \nQ 40.53125 6.109375 44.609375 11.75 \nQ 48.6875 17.390625 48.6875 27.296875 \nz\nM 18.109375 46.390625 \nQ 20.953125 51.265625 25.265625 53.625 \nQ 29.59375 56 35.59375 56 \nQ 45.5625 56 51.78125 48.09375 \nQ 58.015625 40.1875 58.015625 27.296875 \nQ 58.015625 14.40625 51.78125 6.484375 \nQ 45.5625 -1.421875 35.59375 -1.421875 \nQ 29.59375 -1.421875 25.265625 0.953125 \nQ 20.953125 3.328125 18.109375 8.203125 \nL 18.109375 0 \nL 9.078125 0 \nL 9.078125 75.984375 \nL 18.109375 75.984375 \nz\n\" id=\"DejaVuSans-98\"/>\n       <path d=\"M 34.28125 27.484375 \nQ 23.390625 27.484375 19.1875 25 \nQ 14.984375 22.515625 14.984375 16.5 \nQ 14.984375 11.71875 18.140625 8.90625 \nQ 21.296875 6.109375 26.703125 6.109375 \nQ 34.1875 6.109375 38.703125 11.40625 \nQ 43.21875 16.703125 43.21875 25.484375 \nL 43.21875 27.484375 \nz\nM 52.203125 31.203125 \nL 52.203125 0 \nL 43.21875 0 \nL 43.21875 8.296875 \nQ 40.140625 3.328125 35.546875 0.953125 \nQ 30.953125 -1.421875 24.3125 -1.421875 \nQ 15.921875 -1.421875 10.953125 3.296875 \nQ 6 8.015625 6 15.921875 \nQ 6 25.140625 12.171875 29.828125 \nQ 18.359375 34.515625 30.609375 34.515625 \nL 43.21875 34.515625 \nL 43.21875 35.40625 \nQ 43.21875 41.609375 39.140625 45 \nQ 35.0625 48.390625 27.6875 48.390625 \nQ 23 48.390625 18.546875 47.265625 \nQ 14.109375 46.140625 10.015625 43.890625 \nL 10.015625 52.203125 \nQ 14.9375 54.109375 19.578125 55.046875 \nQ 24.21875 56 28.609375 56 \nQ 40.484375 56 46.34375 49.84375 \nQ 52.203125 43.703125 52.203125 31.203125 \nz\n\" id=\"DejaVuSans-97\"/>\n       <path d=\"M 54.890625 33.015625 \nL 54.890625 0 \nL 45.90625 0 \nL 45.90625 32.71875 \nQ 45.90625 40.484375 42.875 44.328125 \nQ 39.84375 48.1875 33.796875 48.1875 \nQ 26.515625 48.1875 22.3125 43.546875 \nQ 18.109375 38.921875 18.109375 30.90625 \nL 18.109375 0 \nL 9.078125 0 \nL 9.078125 54.6875 \nL 18.109375 54.6875 \nL 18.109375 46.1875 \nQ 21.34375 51.125 25.703125 53.5625 \nQ 30.078125 56 35.796875 56 \nQ 45.21875 56 50.046875 50.171875 \nQ 54.890625 44.34375 54.890625 33.015625 \nz\n\" id=\"DejaVuSans-110\"/>\n       <path d=\"M 45.40625 46.390625 \nL 45.40625 75.984375 \nL 54.390625 75.984375 \nL 54.390625 0 \nL 45.40625 0 \nL 45.40625 8.203125 \nQ 42.578125 3.328125 38.25 0.953125 \nQ 33.9375 -1.421875 27.875 -1.421875 \nQ 17.96875 -1.421875 11.734375 6.484375 \nQ 5.515625 14.40625 5.515625 27.296875 \nQ 5.515625 40.1875 11.734375 48.09375 \nQ 17.96875 56 27.875 56 \nQ 33.9375 56 38.25 53.625 \nQ 42.578125 51.265625 45.40625 46.390625 \nz\nM 14.796875 27.296875 \nQ 14.796875 17.390625 18.875 11.75 \nQ 22.953125 6.109375 30.078125 6.109375 \nQ 37.203125 6.109375 41.296875 11.75 \nQ 45.40625 17.390625 45.40625 27.296875 \nQ 45.40625 37.203125 41.296875 42.84375 \nQ 37.203125 48.484375 30.078125 48.484375 \nQ 22.953125 48.484375 18.875 42.84375 \nQ 14.796875 37.203125 14.796875 27.296875 \nz\n\" id=\"DejaVuSans-100\"/>\n       <path id=\"DejaVuSans-32\"/>\n       <path d=\"M 44.28125 53.078125 \nL 44.28125 44.578125 \nQ 40.484375 46.53125 36.375 47.5 \nQ 32.28125 48.484375 27.875 48.484375 \nQ 21.1875 48.484375 17.84375 46.4375 \nQ 14.5 44.390625 14.5 40.28125 \nQ 14.5 37.15625 16.890625 35.375 \nQ 19.28125 33.59375 26.515625 31.984375 \nL 29.59375 31.296875 \nQ 39.15625 29.25 43.1875 25.515625 \nQ 47.21875 21.78125 47.21875 15.09375 \nQ 47.21875 7.46875 41.1875 3.015625 \nQ 35.15625 -1.421875 24.609375 -1.421875 \nQ 20.21875 -1.421875 15.453125 -0.5625 \nQ 10.6875 0.296875 5.421875 2 \nL 5.421875 11.28125 \nQ 10.40625 8.6875 15.234375 7.390625 \nQ 20.0625 6.109375 24.8125 6.109375 \nQ 31.15625 6.109375 34.5625 8.28125 \nQ 37.984375 10.453125 37.984375 14.40625 \nQ 37.984375 18.0625 35.515625 20.015625 \nQ 33.0625 21.96875 24.703125 23.78125 \nL 21.578125 24.515625 \nQ 13.234375 26.265625 9.515625 29.90625 \nQ 5.8125 33.546875 5.8125 39.890625 \nQ 5.8125 47.609375 11.28125 51.796875 \nQ 16.75 56 26.8125 56 \nQ 31.78125 56 36.171875 55.265625 \nQ 40.578125 54.546875 44.28125 53.078125 \nz\n\" id=\"DejaVuSans-115\"/>\n       <path d=\"M 18.3125 70.21875 \nL 18.3125 54.6875 \nL 36.8125 54.6875 \nL 36.8125 47.703125 \nL 18.3125 47.703125 \nL 18.3125 18.015625 \nQ 18.3125 11.328125 20.140625 9.421875 \nQ 21.96875 7.515625 27.59375 7.515625 \nL 36.8125 7.515625 \nL 36.8125 0 \nL 27.59375 0 \nQ 17.1875 0 13.234375 3.875 \nQ 9.28125 7.765625 9.28125 18.015625 \nL 9.28125 47.703125 \nL 2.6875 47.703125 \nL 2.6875 54.6875 \nL 9.28125 54.6875 \nL 9.28125 70.21875 \nz\n\" id=\"DejaVuSans-116\"/>\n       <path d=\"M 41.109375 46.296875 \nQ 39.59375 47.171875 37.8125 47.578125 \nQ 36.03125 48 33.890625 48 \nQ 26.265625 48 22.1875 43.046875 \nQ 18.109375 38.09375 18.109375 28.8125 \nL 18.109375 0 \nL 9.078125 0 \nL 9.078125 54.6875 \nL 18.109375 54.6875 \nL 18.109375 46.1875 \nQ 20.953125 51.171875 25.484375 53.578125 \nQ 30.03125 56 36.53125 56 \nQ 37.453125 56 38.578125 55.875 \nQ 39.703125 55.765625 41.0625 55.515625 \nz\n\" id=\"DejaVuSans-114\"/>\n       <path d=\"M 56.203125 29.59375 \nL 56.203125 25.203125 \nL 14.890625 25.203125 \nQ 15.484375 15.921875 20.484375 11.0625 \nQ 25.484375 6.203125 34.421875 6.203125 \nQ 39.59375 6.203125 44.453125 7.46875 \nQ 49.3125 8.734375 54.109375 11.28125 \nL 54.109375 2.78125 \nQ 49.265625 0.734375 44.1875 -0.34375 \nQ 39.109375 -1.421875 33.890625 -1.421875 \nQ 20.796875 -1.421875 13.15625 6.1875 \nQ 5.515625 13.8125 5.515625 26.8125 \nQ 5.515625 40.234375 12.765625 48.109375 \nQ 20.015625 56 32.328125 56 \nQ 43.359375 56 49.78125 48.890625 \nQ 56.203125 41.796875 56.203125 29.59375 \nz\nM 47.21875 32.234375 \nQ 47.125 39.59375 43.09375 43.984375 \nQ 39.0625 48.390625 32.421875 48.390625 \nQ 24.90625 48.390625 20.390625 44.140625 \nQ 15.875 39.890625 15.1875 32.171875 \nz\n\" id=\"DejaVuSans-101\"/>\n       <path d=\"M 48.78125 52.59375 \nL 48.78125 44.1875 \nQ 44.96875 46.296875 41.140625 47.34375 \nQ 37.3125 48.390625 33.40625 48.390625 \nQ 24.65625 48.390625 19.8125 42.84375 \nQ 14.984375 37.3125 14.984375 27.296875 \nQ 14.984375 17.28125 19.8125 11.734375 \nQ 24.65625 6.203125 33.40625 6.203125 \nQ 37.3125 6.203125 41.140625 7.25 \nQ 44.96875 8.296875 48.78125 10.40625 \nL 48.78125 2.09375 \nQ 45.015625 0.34375 40.984375 -0.53125 \nQ 36.96875 -1.421875 32.421875 -1.421875 \nQ 20.0625 -1.421875 12.78125 6.34375 \nQ 5.515625 14.109375 5.515625 27.296875 \nQ 5.515625 40.671875 12.859375 48.328125 \nQ 20.21875 56 33.015625 56 \nQ 37.15625 56 41.109375 55.140625 \nQ 45.0625 54.296875 48.78125 52.59375 \nz\n\" id=\"DejaVuSans-99\"/>\n       <path d=\"M 54.890625 33.015625 \nL 54.890625 0 \nL 45.90625 0 \nL 45.90625 32.71875 \nQ 45.90625 40.484375 42.875 44.328125 \nQ 39.84375 48.1875 33.796875 48.1875 \nQ 26.515625 48.1875 22.3125 43.546875 \nQ 18.109375 38.921875 18.109375 30.90625 \nL 18.109375 0 \nL 9.078125 0 \nL 9.078125 75.984375 \nL 18.109375 75.984375 \nL 18.109375 46.1875 \nQ 21.34375 51.125 25.703125 53.5625 \nQ 30.078125 56 35.796875 56 \nQ 45.21875 56 50.046875 50.171875 \nQ 54.890625 44.34375 54.890625 33.015625 \nz\n\" id=\"DejaVuSans-104\"/>\n       <path d=\"M 31 75.875 \nQ 24.46875 64.65625 21.28125 53.65625 \nQ 18.109375 42.671875 18.109375 31.390625 \nQ 18.109375 20.125 21.3125 9.0625 \nQ 24.515625 -2 31 -13.1875 \nL 23.1875 -13.1875 \nQ 15.875 -1.703125 12.234375 9.375 \nQ 8.59375 20.453125 8.59375 31.390625 \nQ 8.59375 42.28125 12.203125 53.3125 \nQ 15.828125 64.359375 23.1875 75.875 \nz\n\" id=\"DejaVuSans-40\"/>\n       <path d=\"M 52 44.1875 \nQ 55.375 50.25 60.0625 53.125 \nQ 64.75 56 71.09375 56 \nQ 79.640625 56 84.28125 50.015625 \nQ 88.921875 44.046875 88.921875 33.015625 \nL 88.921875 0 \nL 79.890625 0 \nL 79.890625 32.71875 \nQ 79.890625 40.578125 77.09375 44.375 \nQ 74.3125 48.1875 68.609375 48.1875 \nQ 61.625 48.1875 57.5625 43.546875 \nQ 53.515625 38.921875 53.515625 30.90625 \nL 53.515625 0 \nL 44.484375 0 \nL 44.484375 32.71875 \nQ 44.484375 40.625 41.703125 44.40625 \nQ 38.921875 48.1875 33.109375 48.1875 \nQ 26.21875 48.1875 22.15625 43.53125 \nQ 18.109375 38.875 18.109375 30.90625 \nL 18.109375 0 \nL 9.078125 0 \nL 9.078125 54.6875 \nL 18.109375 54.6875 \nL 18.109375 46.1875 \nQ 21.1875 51.21875 25.484375 53.609375 \nQ 29.78125 56 35.6875 56 \nQ 41.65625 56 45.828125 52.96875 \nQ 50 49.953125 52 44.1875 \nz\n\" id=\"DejaVuSans-109\"/>\n       <path d=\"M 8.015625 75.875 \nL 15.828125 75.875 \nQ 23.140625 64.359375 26.78125 53.3125 \nQ 30.421875 42.28125 30.421875 31.390625 \nQ 30.421875 20.453125 26.78125 9.375 \nQ 23.140625 -1.703125 15.828125 -13.1875 \nL 8.015625 -13.1875 \nQ 14.5 -2 17.703125 9.0625 \nQ 20.90625 20.125 20.90625 31.390625 \nQ 20.90625 42.671875 17.703125 53.65625 \nQ 14.5 64.65625 8.015625 75.875 \nz\n\" id=\"DejaVuSans-41\"/>\n      </defs>\n      <use xlink:href=\"#DejaVuSans-98\"/>\n      <use x=\"63.476562\" xlink:href=\"#DejaVuSans-97\"/>\n      <use x=\"124.755859\" xlink:href=\"#DejaVuSans-110\"/>\n      <use x=\"188.134766\" xlink:href=\"#DejaVuSans-100\"/>\n      <use x=\"251.611328\" xlink:href=\"#DejaVuSans-32\"/>\n      <use x=\"283.398438\" xlink:href=\"#DejaVuSans-115\"/>\n      <use x=\"335.498047\" xlink:href=\"#DejaVuSans-116\"/>\n      <use x=\"374.707031\" xlink:href=\"#DejaVuSans-114\"/>\n      <use x=\"413.570312\" xlink:href=\"#DejaVuSans-101\"/>\n      <use x=\"475.09375\" xlink:href=\"#DejaVuSans-116\"/>\n      <use x=\"514.302734\" xlink:href=\"#DejaVuSans-99\"/>\n      <use x=\"569.283203\" xlink:href=\"#DejaVuSans-104\"/>\n      <use x=\"632.662109\" xlink:href=\"#DejaVuSans-32\"/>\n      <use x=\"664.449219\" xlink:href=\"#DejaVuSans-40\"/>\n      <use x=\"703.462891\" xlink:href=\"#DejaVuSans-109\"/>\n      <use x=\"800.875\" xlink:href=\"#DejaVuSans-41\"/>\n     </g>\n    </g>\n   </g>\n   <g id=\"matplotlib.axis_2\">\n    <g id=\"ytick_1\">\n     <g id=\"line2d_13\">\n      <path clip-path=\"url(#p6fced7595b)\" d=\"M 40.603125 493.260771 \nL 598.603125 493.260771 \n\" style=\"fill:none;stroke:#b0b0b0;stroke-linecap:square;stroke-width:0.8;\"/>\n     </g>\n     <g id=\"line2d_14\">\n      <defs>\n       <path d=\"M 0 0 \nL -3.5 0 \n\" id=\"m374a841a00\" style=\"stroke:#000000;stroke-width:0.8;\"/>\n      </defs>\n      <g>\n       <use style=\"stroke:#000000;stroke-width:0.8;\" x=\"40.603125\" xlink:href=\"#m374a841a00\" y=\"493.260771\"/>\n      </g>\n     </g>\n     <g id=\"text_8\">\n      <!-- 28 -->\n      <g transform=\"translate(20.878125 497.05999)scale(0.1 -0.1)\">\n       <use xlink:href=\"#DejaVuSans-50\"/>\n       <use x=\"63.623047\" xlink:href=\"#DejaVuSans-56\"/>\n      </g>\n     </g>\n    </g>\n    <g id=\"ytick_2\">\n     <g id=\"line2d_15\">\n      <path clip-path=\"url(#p6fced7595b)\" d=\"M 40.603125 397.554958 \nL 598.603125 397.554958 \n\" style=\"fill:none;stroke:#b0b0b0;stroke-linecap:square;stroke-width:0.8;\"/>\n     </g>\n     <g id=\"line2d_16\">\n      <g>\n       <use style=\"stroke:#000000;stroke-width:0.8;\" x=\"40.603125\" xlink:href=\"#m374a841a00\" y=\"397.554958\"/>\n      </g>\n     </g>\n     <g id=\"text_9\">\n      <!-- 30 -->\n      <g transform=\"translate(20.878125 401.354176)scale(0.1 -0.1)\">\n       <defs>\n        <path d=\"M 40.578125 39.3125 \nQ 47.65625 37.796875 51.625 33 \nQ 55.609375 28.21875 55.609375 21.1875 \nQ 55.609375 10.40625 48.1875 4.484375 \nQ 40.765625 -1.421875 27.09375 -1.421875 \nQ 22.515625 -1.421875 17.65625 -0.515625 \nQ 12.796875 0.390625 7.625 2.203125 \nL 7.625 11.71875 \nQ 11.71875 9.328125 16.59375 8.109375 \nQ 21.484375 6.890625 26.8125 6.890625 \nQ 36.078125 6.890625 40.9375 10.546875 \nQ 45.796875 14.203125 45.796875 21.1875 \nQ 45.796875 27.640625 41.28125 31.265625 \nQ 36.765625 34.90625 28.71875 34.90625 \nL 20.21875 34.90625 \nL 20.21875 43.015625 \nL 29.109375 43.015625 \nQ 36.375 43.015625 40.234375 45.921875 \nQ 44.09375 48.828125 44.09375 54.296875 \nQ 44.09375 59.90625 40.109375 62.90625 \nQ 36.140625 65.921875 28.71875 65.921875 \nQ 24.65625 65.921875 20.015625 65.03125 \nQ 15.375 64.15625 9.8125 62.3125 \nL 9.8125 71.09375 \nQ 15.4375 72.65625 20.34375 73.4375 \nQ 25.25 74.21875 29.59375 74.21875 \nQ 40.828125 74.21875 47.359375 69.109375 \nQ 53.90625 64.015625 53.90625 55.328125 \nQ 53.90625 49.265625 50.4375 45.09375 \nQ 46.96875 40.921875 40.578125 39.3125 \nz\n\" id=\"DejaVuSans-51\"/>\n       </defs>\n       <use xlink:href=\"#DejaVuSans-51\"/>\n       <use x=\"63.623047\" xlink:href=\"#DejaVuSans-48\"/>\n      </g>\n     </g>\n    </g>\n    <g id=\"ytick_3\">\n     <g id=\"line2d_17\">\n      <path clip-path=\"url(#p6fced7595b)\" d=\"M 40.603125 301.849144 \nL 598.603125 301.849144 \n\" style=\"fill:none;stroke:#b0b0b0;stroke-linecap:square;stroke-width:0.8;\"/>\n     </g>\n     <g id=\"line2d_18\">\n      <g>\n       <use style=\"stroke:#000000;stroke-width:0.8;\" x=\"40.603125\" xlink:href=\"#m374a841a00\" y=\"301.849144\"/>\n      </g>\n     </g>\n     <g id=\"text_10\">\n      <!-- 32 -->\n      <g transform=\"translate(20.878125 305.648363)scale(0.1 -0.1)\">\n       <use xlink:href=\"#DejaVuSans-51\"/>\n       <use x=\"63.623047\" xlink:href=\"#DejaVuSans-50\"/>\n      </g>\n     </g>\n    </g>\n    <g id=\"ytick_4\">\n     <g id=\"line2d_19\">\n      <path clip-path=\"url(#p6fced7595b)\" d=\"M 40.603125 206.143331 \nL 598.603125 206.143331 \n\" style=\"fill:none;stroke:#b0b0b0;stroke-linecap:square;stroke-width:0.8;\"/>\n     </g>\n     <g id=\"line2d_20\">\n      <g>\n       <use style=\"stroke:#000000;stroke-width:0.8;\" x=\"40.603125\" xlink:href=\"#m374a841a00\" y=\"206.143331\"/>\n      </g>\n     </g>\n     <g id=\"text_11\">\n      <!-- 34 -->\n      <g transform=\"translate(20.878125 209.94255)scale(0.1 -0.1)\">\n       <use xlink:href=\"#DejaVuSans-51\"/>\n       <use x=\"63.623047\" xlink:href=\"#DejaVuSans-52\"/>\n      </g>\n     </g>\n    </g>\n    <g id=\"ytick_5\">\n     <g id=\"line2d_21\">\n      <path clip-path=\"url(#p6fced7595b)\" d=\"M 40.603125 110.437518 \nL 598.603125 110.437518 \n\" style=\"fill:none;stroke:#b0b0b0;stroke-linecap:square;stroke-width:0.8;\"/>\n     </g>\n     <g id=\"line2d_22\">\n      <g>\n       <use style=\"stroke:#000000;stroke-width:0.8;\" x=\"40.603125\" xlink:href=\"#m374a841a00\" y=\"110.437518\"/>\n      </g>\n     </g>\n     <g id=\"text_12\">\n      <!-- 36 -->\n      <g transform=\"translate(20.878125 114.236737)scale(0.1 -0.1)\">\n       <use xlink:href=\"#DejaVuSans-51\"/>\n       <use x=\"63.623047\" xlink:href=\"#DejaVuSans-54\"/>\n      </g>\n     </g>\n    </g>\n    <g id=\"text_13\">\n     <!-- (N/m) -->\n     <g transform=\"translate(14.798437 281.135)rotate(-90)scale(0.1 -0.1)\">\n      <defs>\n       <path d=\"M 9.8125 72.90625 \nL 23.09375 72.90625 \nL 55.421875 11.921875 \nL 55.421875 72.90625 \nL 64.984375 72.90625 \nL 64.984375 0 \nL 51.703125 0 \nL 19.390625 60.984375 \nL 19.390625 0 \nL 9.8125 0 \nz\n\" id=\"DejaVuSans-78\"/>\n       <path d=\"M 25.390625 72.90625 \nL 33.6875 72.90625 \nL 8.296875 -9.28125 \nL 0 -9.28125 \nz\n\" id=\"DejaVuSans-47\"/>\n      </defs>\n      <use xlink:href=\"#DejaVuSans-40\"/>\n      <use x=\"39.013672\" xlink:href=\"#DejaVuSans-78\"/>\n      <use x=\"113.818359\" xlink:href=\"#DejaVuSans-47\"/>\n      <use x=\"147.509766\" xlink:href=\"#DejaVuSans-109\"/>\n      <use x=\"244.921875\" xlink:href=\"#DejaVuSans-41\"/>\n     </g>\n    </g>\n   </g>\n   <g id=\"patch_3\">\n    <path d=\"M 40.603125 511.558125 \nL 40.603125 22.318125 \n\" style=\"fill:none;stroke:#000000;stroke-linecap:square;stroke-linejoin:miter;stroke-width:0.8;\"/>\n   </g>\n   <g id=\"patch_4\">\n    <path d=\"M 598.603125 511.558125 \nL 598.603125 22.318125 \n\" style=\"fill:none;stroke:#000000;stroke-linecap:square;stroke-linejoin:miter;stroke-width:0.8;\"/>\n   </g>\n   <g id=\"patch_5\">\n    <path d=\"M 40.603125 511.558125 \nL 598.603125 511.558125 \n\" style=\"fill:none;stroke:#000000;stroke-linecap:square;stroke-linejoin:miter;stroke-width:0.8;\"/>\n   </g>\n   <g id=\"patch_6\">\n    <path d=\"M 40.603125 22.318125 \nL 598.603125 22.318125 \n\" style=\"fill:none;stroke:#000000;stroke-linecap:square;stroke-linejoin:miter;stroke-width:0.8;\"/>\n   </g>\n   <g id=\"text_14\">\n    <!-- Calculated constant vs stretch data -->\n    <g transform=\"translate(212.914687 16.318125)scale(0.12 -0.12)\">\n     <defs>\n      <path d=\"M 64.40625 67.28125 \nL 64.40625 56.890625 \nQ 59.421875 61.53125 53.78125 63.8125 \nQ 48.140625 66.109375 41.796875 66.109375 \nQ 29.296875 66.109375 22.65625 58.46875 \nQ 16.015625 50.828125 16.015625 36.375 \nQ 16.015625 21.96875 22.65625 14.328125 \nQ 29.296875 6.6875 41.796875 6.6875 \nQ 48.140625 6.6875 53.78125 8.984375 \nQ 59.421875 11.28125 64.40625 15.921875 \nL 64.40625 5.609375 \nQ 59.234375 2.09375 53.4375 0.328125 \nQ 47.65625 -1.421875 41.21875 -1.421875 \nQ 24.65625 -1.421875 15.125 8.703125 \nQ 5.609375 18.84375 5.609375 36.375 \nQ 5.609375 53.953125 15.125 64.078125 \nQ 24.65625 74.21875 41.21875 74.21875 \nQ 47.75 74.21875 53.53125 72.484375 \nQ 59.328125 70.75 64.40625 67.28125 \nz\n\" id=\"DejaVuSans-67\"/>\n      <path d=\"M 9.421875 75.984375 \nL 18.40625 75.984375 \nL 18.40625 0 \nL 9.421875 0 \nz\n\" id=\"DejaVuSans-108\"/>\n      <path d=\"M 8.5 21.578125 \nL 8.5 54.6875 \nL 17.484375 54.6875 \nL 17.484375 21.921875 \nQ 17.484375 14.15625 20.5 10.265625 \nQ 23.53125 6.390625 29.59375 6.390625 \nQ 36.859375 6.390625 41.078125 11.03125 \nQ 45.3125 15.671875 45.3125 23.6875 \nL 45.3125 54.6875 \nL 54.296875 54.6875 \nL 54.296875 0 \nL 45.3125 0 \nL 45.3125 8.40625 \nQ 42.046875 3.421875 37.71875 1 \nQ 33.40625 -1.421875 27.6875 -1.421875 \nQ 18.265625 -1.421875 13.375 4.4375 \nQ 8.5 10.296875 8.5 21.578125 \nz\nM 31.109375 56 \nz\n\" id=\"DejaVuSans-117\"/>\n      <path d=\"M 30.609375 48.390625 \nQ 23.390625 48.390625 19.1875 42.75 \nQ 14.984375 37.109375 14.984375 27.296875 \nQ 14.984375 17.484375 19.15625 11.84375 \nQ 23.34375 6.203125 30.609375 6.203125 \nQ 37.796875 6.203125 41.984375 11.859375 \nQ 46.1875 17.53125 46.1875 27.296875 \nQ 46.1875 37.015625 41.984375 42.703125 \nQ 37.796875 48.390625 30.609375 48.390625 \nz\nM 30.609375 56 \nQ 42.328125 56 49.015625 48.375 \nQ 55.71875 40.765625 55.71875 27.296875 \nQ 55.71875 13.875 49.015625 6.21875 \nQ 42.328125 -1.421875 30.609375 -1.421875 \nQ 18.84375 -1.421875 12.171875 6.21875 \nQ 5.515625 13.875 5.515625 27.296875 \nQ 5.515625 40.765625 12.171875 48.375 \nQ 18.84375 56 30.609375 56 \nz\n\" id=\"DejaVuSans-111\"/>\n      <path d=\"M 2.984375 54.6875 \nL 12.5 54.6875 \nL 29.59375 8.796875 \nL 46.6875 54.6875 \nL 56.203125 54.6875 \nL 35.6875 0 \nL 23.484375 0 \nz\n\" id=\"DejaVuSans-118\"/>\n     </defs>\n     <use xlink:href=\"#DejaVuSans-67\"/>\n     <use x=\"69.824219\" xlink:href=\"#DejaVuSans-97\"/>\n     <use x=\"131.103516\" xlink:href=\"#DejaVuSans-108\"/>\n     <use x=\"158.886719\" xlink:href=\"#DejaVuSans-99\"/>\n     <use x=\"213.867188\" xlink:href=\"#DejaVuSans-117\"/>\n     <use x=\"277.246094\" xlink:href=\"#DejaVuSans-108\"/>\n     <use x=\"305.029297\" xlink:href=\"#DejaVuSans-97\"/>\n     <use x=\"366.308594\" xlink:href=\"#DejaVuSans-116\"/>\n     <use x=\"405.517578\" xlink:href=\"#DejaVuSans-101\"/>\n     <use x=\"467.041016\" xlink:href=\"#DejaVuSans-100\"/>\n     <use x=\"530.517578\" xlink:href=\"#DejaVuSans-32\"/>\n     <use x=\"562.304688\" xlink:href=\"#DejaVuSans-99\"/>\n     <use x=\"617.285156\" xlink:href=\"#DejaVuSans-111\"/>\n     <use x=\"678.466797\" xlink:href=\"#DejaVuSans-110\"/>\n     <use x=\"741.845703\" xlink:href=\"#DejaVuSans-115\"/>\n     <use x=\"793.945312\" xlink:href=\"#DejaVuSans-116\"/>\n     <use x=\"833.154297\" xlink:href=\"#DejaVuSans-97\"/>\n     <use x=\"894.433594\" xlink:href=\"#DejaVuSans-110\"/>\n     <use x=\"957.8125\" xlink:href=\"#DejaVuSans-116\"/>\n     <use x=\"997.021484\" xlink:href=\"#DejaVuSans-32\"/>\n     <use x=\"1028.808594\" xlink:href=\"#DejaVuSans-118\"/>\n     <use x=\"1087.988281\" xlink:href=\"#DejaVuSans-115\"/>\n     <use x=\"1140.087891\" xlink:href=\"#DejaVuSans-32\"/>\n     <use x=\"1171.875\" xlink:href=\"#DejaVuSans-115\"/>\n     <use x=\"1223.974609\" xlink:href=\"#DejaVuSans-116\"/>\n     <use x=\"1263.183594\" xlink:href=\"#DejaVuSans-114\"/>\n     <use x=\"1302.046875\" xlink:href=\"#DejaVuSans-101\"/>\n     <use x=\"1363.570312\" xlink:href=\"#DejaVuSans-116\"/>\n     <use x=\"1402.779297\" xlink:href=\"#DejaVuSans-99\"/>\n     <use x=\"1457.759766\" xlink:href=\"#DejaVuSans-104\"/>\n     <use x=\"1521.138672\" xlink:href=\"#DejaVuSans-32\"/>\n     <use x=\"1552.925781\" xlink:href=\"#DejaVuSans-100\"/>\n     <use x=\"1616.402344\" xlink:href=\"#DejaVuSans-97\"/>\n     <use x=\"1677.681641\" xlink:href=\"#DejaVuSans-116\"/>\n     <use x=\"1716.890625\" xlink:href=\"#DejaVuSans-97\"/>\n    </g>\n   </g>\n  </g>\n </g>\n <defs>\n  <clipPath id=\"p6fced7595b\">\n   <rect height=\"489.24\" width=\"558\" x=\"40.603125\" y=\"22.318125\"/>\n  </clipPath>\n </defs>\n</svg>\n",
      "image/png": "[encoded data removed]"
     },
     "metadata": {
      "needs_background": "light"
     }
    }
   ],
   "source": [
    "# create a figure with a set of axes as we did with histograms\n",
    "fig1, ax1 = plt.subplots()\n",
    "\n",
    "stretch_list.pop(0)\n",
    "\n",
    "# scatter plot data set 1\n",
    "ax1.scatter(stretch_list, constant_list)\n",
    "\n",
    "# set up labels and titles for the plot and turn on the grid lines\n",
    "ax1.set(xlabel='band stretch (m)', ylabel='(N/m)',\n",
    "       title='Calculated constant vs stretch data')\n",
    "ax1.grid()\n",
    "\n",
    "# Set the size of my plot for better visibility\n",
    "fig1.set_size_inches(10, 9)\n",
    "plt.show()"
   ]
  },
  {
   "source": [
    "### Plot discussion \n",
    "\n",
    "Seeing this plot I'm realizing something. I think I have been thinking of something wrong here. Right now as the stretch increases, the force constant of the band N/m is decreasing. I think I'm one step too deep here. I should be trying to find the bands force in just Newtons per unit of displacement, however instead I have N/m depending on the length of the rubber band. \n",
    "\n",
    "I have been working towards finding this constant of hook's law which I beleive would be the slope of the regression line for a plot of the **force vs. displacment (x-axis: Force N, y-axis: band displacement).**"
   ],
   "cell_type": "markdown",
   "metadata": {}
  },
  {
   "source": [
    "### Meaning of decreasing constant based on displacement?\n",
    "\n",
    "The constant of the band is decreasing as the displacement increases, this means we must have an inverse proportion that as the band reaches max stretch it the **smallest** spring constant.\n",
    "\n",
    "So when the band only stretch 1.5cm with the first weight added, it had the highest constant! From there the constant decresed as displacement decresed.\n",
    "\n",
    "This seems to imply that if the constant is **highest** at first then the band is the **most** \"stiff\" at the beginning and less \"stiff\" at the end."
   ],
   "cell_type": "markdown",
   "metadata": {}
  },
  {
   "source": [
    "### Final Thoughts\n",
    "\n",
    "I took an interesting path to arrive at some conclusions about hook's law. The biggest question right now is what exactly is \"stiffness\" and how does that relate to a high constant having high stiffness. \n",
    "\n",
    "If I started this over again specifically calculate and plot force vs displacment and make inferences about the constant using the proportional relationship between force and displacement."
   ],
   "cell_type": "markdown",
   "metadata": {}
  }
 ]
}