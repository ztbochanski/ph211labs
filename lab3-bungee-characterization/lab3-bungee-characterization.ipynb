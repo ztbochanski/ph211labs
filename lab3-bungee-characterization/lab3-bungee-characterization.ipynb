{
 "metadata": {
  "language_info": {
   "codemirror_mode": {
    "name": "ipython",
    "version": 3
   },
   "file_extension": ".py",
   "mimetype": "text/x-python",
   "name": "python",
   "nbconvert_exporter": "python",
   "pygments_lexer": "ipython3",
   "version": "3.9.1-final"
  },
  "orig_nbformat": 2,
  "kernelspec": {
   "name": "python3",
   "display_name": "Python 3",
   "language": "python"
  }
 },
 "nbformat": 4,
 "nbformat_minor": 2,
 "cells": [
  {
   "cell_type": "code",
   "execution_count": null,
   "metadata": {},
   "outputs": [],
   "source": []
  },
  {
   "source": [
    "# Bungee Characterization\n",
    "## PH 211 Lab\n",
    "### January 21, 2021\n",
    "### Zachary Bochanski\n",
    "\n",
    "The purpose of this notebook is for documenting the experience of modeling bungee characteristics through physics. This lab is an exercise in imporving the collection of data, storing it in variables using python, and making conclusions."
   ],
   "cell_type": "markdown",
   "metadata": {}
  },
  {
   "source": [
    "### Data collection procedure\n",
    "\n",
    "1. Secure rubber band to rack/shelf\n",
    "\n",
    "2. Measure rubber band length and attatch (hook) weigts.\n",
    "\n",
    "3. Record length (ruler) and weight (w/ scale) for each object added to band\n",
    "\n",
    "\n"
   ],
   "cell_type": "markdown",
   "metadata": {}
  },
  {
   "source": [
    "### Imports\n",
    "\n",
    "Numpy for math operations\n",
    "Matplotlib for visualizations "
   ],
   "cell_type": "markdown",
   "metadata": {}
  },
  {
   "cell_type": "code",
   "execution_count": 1,
   "metadata": {},
   "outputs": [],
   "source": [
    "import numpy as np\n",
    "import matplotlib as mplot\n",
    "import matplotlib.pyplot as plt"
   ]
  },
  {
   "source": [
    "### Lab Data\n",
    "\n",
    "Lab data is recorded in two python lists: \n",
    "\n",
    "- band_length_cm: Rubber band length in cm. \n",
    "- band_weight_g: Weight applied to the band in grams.\n",
    "- weight_used: Since I don't have objects with the same mass, just recording seperate masses in case it's needed. \n",
    "\n",
    "For example, the rubber band length at rest is 5.5cm and the weight applied is 0g.\n",
    "\n",
    "Data is entered by manually entering each set of measurements and appedning them to the respective list. Using 6 points to measure the \"stretch,\" these 6 points increase in about 60g intervals to 350g where the rubber band seems like its about to break. This breaking-point seems like a good spot to stop and a possible maximum force the rubber band can withstand."
   ],
   "cell_type": "markdown",
   "metadata": {}
  },
  {
   "cell_type": "code",
   "execution_count": 61,
   "metadata": {},
   "outputs": [
    {
     "output_type": "stream",
     "name": "stdout",
     "text": [
      "--------------------------------\nLength (cm) Mass (g)  Object (g)\n--------------------------------\n5.5            0             0.0\n7.0           57            57.0\n8.4          103            46.0\n9.8          164            61.0\n13.1         230            66.0\n15.2         284            54.0\n17.4         341            57.0\n--------------------------------\n"
     ]
    }
   ],
   "source": [
    "# Initialize lists for recording data\n",
    "band_length_cm = [] # dependent variable\n",
    "weight_on_band_g = [] # independent variable\n",
    "weight_used = [] # recording seperate masses of objects because each one is different\n",
    "\n",
    "# Record data points measuring the length and weight of the object added to the band\n",
    "\n",
    "# Session 1: at rest\n",
    "band_length_cm.append(5.5)\n",
    "weight_on_band_g.append(0)\n",
    "weight_used.append(0)\n",
    "\n",
    "# Session 2: hook 1\n",
    "band_length_cm.append(7)\n",
    "weight_on_band_g.append(0+57)\n",
    "weight_used.append(57)\n",
    "\n",
    "# session 3: hook 2\n",
    "band_length_cm.append(8.4)\n",
    "weight_on_band_g.append(0+57+46)\n",
    "weight_used.append(46)\n",
    "\n",
    "# session 4: hook 3\n",
    "band_length_cm.append(9.8)\n",
    "weight_on_band_g.append(0+57+46+61)\n",
    "weight_used.append(61)\n",
    "\n",
    "# session 5: hook 4\n",
    "band_length_cm.append(13.1)\n",
    "weight_on_band_g.append(0+57+46+61+66)\n",
    "weight_used.append(66)\n",
    "\n",
    "# session 6: hook 5\n",
    "band_length_cm.append(15.2)\n",
    "weight_on_band_g.append(0+57+46+61+66+54)\n",
    "weight_used.append(54)\n",
    "\n",
    "# session 7: hook 6\n",
    "band_length_cm.append(17.4)\n",
    "weight_on_band_g.append(0+57+46+61+66+54+57)\n",
    "weight_used.append(57)\n",
    "\n",
    "# Display data in a table: table header, setup\n",
    "header = [\"Length (cm)\", \"Mass (g)\", \"Object (g)\" ]\n",
    "line = '-' * 32\n",
    "\n",
    "# Print table\n",
    "print(line)\n",
    "print('{:<12s}{:>4s}{:>12s}'.format(header[0],header[1],header[2]))\n",
    "print(line)\n",
    "for i in range(len(band_length_cm)):\n",
    "    print('{:<10.1f}{:>6d}{:>16.1f}'.format(band_length_cm[i],weight_on_band_g[i],weight_used[i]))\n",
    "print(line)\n"
   ]
  },
  {
   "source": [
    "### Calculating the data collected\n",
    "\n",
    "1. The \"stretch\" of the band would be the displacement: streched length subracted by resting length at mass = 0.\n",
    "\n",
    "2. The force of the band would be the amount of newtons the band pulls up when a certain amount of force is appied downward on the band.\n",
    "\n",
    "3. In the diagram below, if the (-F_g) force of gravity = the (+F_r) force of the rubber band, and F=mg then:\n",
    "\n",
    "$$ F_r-Fg = mg $$\n",
    "\n",
    "4. Add gravity to the other side:\n",
    "\n",
    "$$ F_r=Fg $$\n",
    "\n",
    "5. Band force = gravity, then we determine stretch and try to get the band force. \n",
    "\n",
    "$$ Bandforce(n/m)*stretch(m) = m(kg)*g(m/s) $$\n",
    "\n",
    "6. It would look like:\n",
    "\n",
    "$$ Bandforce(n/m) = \\frac{m(kg)*g(m/s)}{stretch(m)} $$\n",
    "\n",
    "7. The data is recorded in cm and grams so some conversions must be done while calculating.\n",
    "\n",
    "![free_body]()"
   ],
   "cell_type": "markdown",
   "metadata": {}
  },
  {
   "cell_type": "code",
   "execution_count": 78,
   "metadata": {},
   "outputs": [],
   "source": [
    "# Calculate stretch of band in cm\n",
    "stretch_list = []\n",
    "for length in band_length_cm:\n",
    "    stretch = length-band_length_cm[0] # the starting length of 5.5 is recorded at index 0\n",
    "    stretch_list.append(format(stretch, \".1f\"))\n",
    "\n",
    "# Calculate force of band in Newtons\n",
    "k=F/"
   ]
  },
  {
   "source": [
    "### Taking a look at the data collected\n",
    "\n",
    "The data shows a general increase of approx 2cm per 50-0g added, no points look absurd at first glance. Next sept is applying some statistical analysis to the data.\n",
    "\n",
    "So far the data sets are seperate variables related by the mass of the object applied to the band. It seems like the logical step would be to investigate the range of both data sets as well as the \n"
   ],
   "cell_type": "markdown",
   "metadata": {}
  },
  {
   "cell_type": "code",
   "execution_count": 68,
   "metadata": {},
   "outputs": [
    {
     "output_type": "execute_result",
     "data": {
      "text/plain": [
       "9.8"
      ]
     },
     "metadata": {},
     "execution_count": 68
    }
   ],
   "source": [
    "length_min = np.min(band_length_cm)\n",
    "length_max = np.max(band_length_cm)\n",
    "length_range = length_max-length_min\n",
    "\n",
    "np.quantile(band_length_cm, .5)"
   ]
  },
  {
   "source": [
    "## Lab Deliverable:\n",
    "\n",
    "For your lab notebook you will include the usual 'header' information we talked about last week in the first cell of the lab (a markdown cell for sure). After the header cell describe the process by which you collected data from you micro-bungee cord. The actual data can be entered directly into the code. \n",
    "\n",
    "Insert an appropriate title and describe how you determined the varibility of your data across the range of your data points. At some point in your description you need to articulate, in percentage terms, a numerical value for variability of your data that matches your description and data.\n",
    "\n",
    "***"
   ],
   "cell_type": "markdown",
   "metadata": {}
  },
  {
   "source": [
    "***\n",
    "## Lab Deliverable:\n",
    "\n",
    "After you generate the plot of your data in your notebook, with appropriate labels, then insert a markdown cell where you describe the basic features of your data. Do the data fit a pattern? Are there data points, like the 6th blue data point here, that seem out of place? Are there gaps in the data that you did or didn't go back and fill in? Are the places in the data where the shape of the plot changes and it may be worth taking more data. \n",
    "\n",
    "***"
   ],
   "cell_type": "markdown",
   "metadata": {}
  },
  {
   "source": [
    "### Discussion: Deliverable 2\n",
    "\n",
    "The second deliverable asks you to consider the data from your plot(s) and describe whether it has features that are consistent with an ideal physics spring (Hooke's Law). Are some regions linear? ....sort of? Is the spring stiffer at the beginning or at the end of data? Explain your answer. Do both sets of data show similar behavior? How or how not?"
   ],
   "cell_type": "markdown",
   "metadata": {}
  },
  {
   "source": [
    "### Discussion: Deliverable III\n",
    "\n",
    "So what does your plot above mean? What explanation of the behavior of the bungee is suggested by the two line fit?"
   ],
   "cell_type": "markdown",
   "metadata": {}
  },
  {
   "source": [
    "## Reflection\n",
    "\n",
    "As usual I learned a bunch of new stuff in the process of creating this notebook as a framework for your lab report. Thanks."
   ],
   "cell_type": "markdown",
   "metadata": {}
  },
  {
   "cell_type": "code",
   "execution_count": null,
   "metadata": {},
   "outputs": [],
   "source": [
    "e"
   ]
  }
 ]
}