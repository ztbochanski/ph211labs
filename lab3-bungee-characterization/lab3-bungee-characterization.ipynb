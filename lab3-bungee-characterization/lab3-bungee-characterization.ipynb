{
 "metadata": {
  "language_info": {
   "codemirror_mode": {
    "name": "ipython",
    "version": 3
   },
   "file_extension": ".py",
   "mimetype": "text/x-python",
   "name": "python",
   "nbconvert_exporter": "python",
   "pygments_lexer": "ipython3",
   "version": 3
  },
  "orig_nbformat": 2
 },
 "nbformat": 4,
 "nbformat_minor": 2,
 "cells": [
  {
   "cell_type": "code",
   "execution_count": null,
   "metadata": {},
   "outputs": [],
   "source": []
  },
  {
   "source": [
    "# Bungee Characterization\n",
    "## PH 211 Lab\n",
    "### January 21, 2021\n",
    "### Zachary Bochanski\n",
    "\n",
    "The purpose of this notebook is for documenting the experience of modeling bungee characteristics through physics."
   ],
   "cell_type": "markdown",
   "metadata": {}
  },
  {
   "source": [
    "## Lab Deliverable:\n",
    "\n",
    "For your lab notebook you will include the usual 'header' information we talked about last week in the first cell of the lab (a markdown cell for sure). After the header cell describe the process by which you collected data from you micro-bungee cord. The actual data can be entered directly into the code. \n",
    "\n",
    "Insert an appropriate title and describe how you determined the varibility of your data across the range of your data points. At some point in your description you need to articulate, in percentage terms, a numerical value for variability of your data that matches your description and data.\n",
    "\n",
    "***"
   ],
   "cell_type": "markdown",
   "metadata": {}
  },
  {
   "source": [
    "***\n",
    "## Lab Deliverable:\n",
    "\n",
    "After you generate the plot of your data in your notebook, with appropriate labels, then insert a markdown cell where you describe the basic features of your data. Do the data fit a pattern? Are there data points, like the 6th blue data point here, that seem out of place? Are there gaps in the data that you did or didn't go back and fill in? Are the places in the data where the shape of the plot changes and it may be worth taking more data. \n",
    "\n",
    "***"
   ],
   "cell_type": "markdown",
   "metadata": {}
  },
  {
   "source": [
    "### Discussion: Deliverable 2\n",
    "\n",
    "The second deliverable asks you to consider the data from your plot(s) and describe whether it has features that are consistent with an ideal physics spring (Hooke's Law). Are some regions linear? ....sort of? Is the spring stiffer at the beginning or at the end of data? Explain your answer. Do both sets of data show similar behavior? How or how not?"
   ],
   "cell_type": "markdown",
   "metadata": {}
  },
  {
   "source": [
    "### Discussion: Deliverable III\n",
    "\n",
    "So what does your plot above mean? What explanation of the behavior of the bungee is suggested by the two line fit?"
   ],
   "cell_type": "markdown",
   "metadata": {}
  },
  {
   "source": [
    "## Reflection\n",
    "\n",
    "As usual I learned a bunch of new stuff in the process of creating this notebook as a framework for your lab report. Thanks."
   ],
   "cell_type": "markdown",
   "metadata": {}
  },
  {
   "cell_type": "code",
   "execution_count": null,
   "metadata": {},
   "outputs": [],
   "source": [
    "e"
   ]
  }
 ]
}