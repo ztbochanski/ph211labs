{
 "metadata": {
  "language_info": {
   "codemirror_mode": {
    "name": "ipython",
    "version": 3
   },
   "file_extension": ".py",
   "mimetype": "text/x-python",
   "name": "python",
   "nbconvert_exporter": "python",
   "pygments_lexer": "ipython3",
   "version": "3.9.1-final"
  },
  "orig_nbformat": 2,
  "kernelspec": {
   "name": "python3",
   "display_name": "Python 3",
   "language": "python"
  }
 },
 "nbformat": 4,
 "nbformat_minor": 2,
 "cells": [
  {
   "source": [
    "# Crash Carts\n",
    "## PH 211 Lab\n",
    "### February 07, 2021\n",
    "### Zachary Bochanski\n",
    "\n",
    "This lab uses data to describe how a simulated mobile student moves down a hallway. The idea is to plan for, the moving objects involved, to pass within close proximiety (1m) to each other and not collide. The carts are inteded to move at different constant velocitys with an acceptable, and planned margin of error."
   ],
   "cell_type": "markdown",
   "metadata": {}
  },
  {
   "source": [
    "### Imports\n",
    "\n",
    "Importing packages `numpy` and `matplotlib` for use within the lab."
   ],
   "cell_type": "code",
   "metadata": {},
   "execution_count": 2,
   "outputs": []
  },
  {
   "source": [
    "import numpy as np\n",
    "import matplotlib.mlab as mlab\n",
    "import matplotlib.pyplot as plt\n",
    "import matplotlib.patches as patch"
   ],
   "cell_type": "markdown",
   "metadata": {}
  },
  {
   "cell_type": "code",
   "execution_count": 7,
   "metadata": {},
   "outputs": [],
   "source": [
    "### Simulated data sets\n",
    "To keep things simple, sticking with group 1.\n",
    "\n",
    "- Slow data: `group1`\n",
    "- Fast data: `group1`\n",
    "\n",
    "Hallway information:\n",
    "- Hallway1: `6m` from intersection \n",
    "- Hallway2: `9m` from intersection "
   ]
  },
  {
   "cell_type": "code",
   "execution_count": null,
   "metadata": {},
   "outputs": [],
   "source": [
    "# Slow data group 1\n",
    "slow_data = [0.94, 1.02, 0.92, 0.41, 1.23, 0.29] \n",
    "\n",
    "# Fast data group 1\n",
    "fast_data = [2.49, 2.73, 1.96, 2.37, 1.52, 1.85]"
   ]
  }
 ]
}