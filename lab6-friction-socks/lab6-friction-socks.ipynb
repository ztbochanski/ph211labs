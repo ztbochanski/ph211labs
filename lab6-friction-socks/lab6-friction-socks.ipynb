{
 "metadata": {
  "language_info": {
   "codemirror_mode": {
    "name": "ipython",
    "version": 3
   },
   "file_extension": ".py",
   "mimetype": "text/x-python",
   "name": "python",
   "nbconvert_exporter": "python",
   "pygments_lexer": "ipython3",
   "version": "3.9.1"
  },
  "orig_nbformat": 2,
  "kernelspec": {
   "name": "python3",
   "display_name": "Python 3.9.1 64-bit ('jlabenv': venv)",
   "metadata": {
    "interpreter": {
     "hash": "596b7cc4f02652a8b53c7d10df5b3a05b89b701c506ccbf1bcfef4ff758de14b"
    }
   }
  }
 },
 "nbformat": 4,
 "nbformat_minor": 2,
 "cells": [
  {
   "source": [
    "# Friction Socks\n",
    "## PH 211 Lab\n",
    "### Feb 21, 2021\n",
    "### Zachary Bochanski\n",
    "\n",
    "Introduction text..."
   ],
   "cell_type": "markdown",
   "metadata": {}
  }
 ]
}