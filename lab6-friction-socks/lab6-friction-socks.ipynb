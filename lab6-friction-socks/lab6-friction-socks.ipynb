{
 "metadata": {
  "language_info": {
   "codemirror_mode": {
    "name": "ipython",
    "version": 3
   },
   "file_extension": ".py",
   "mimetype": "text/x-python",
   "name": "python",
   "nbconvert_exporter": "python",
   "pygments_lexer": "ipython3",
   "version": "3.9.1"
  },
  "orig_nbformat": 2,
  "kernelspec": {
   "name": "python3",
   "display_name": "Python 3.9.1 64-bit ('jlabenv': virtualenvwrapper)",
   "metadata": {
    "interpreter": {
     "hash": "596b7cc4f02652a8b53c7d10df5b3a05b89b701c506ccbf1bcfef4ff758de14b"
    }
   }
  }
 },
 "nbformat": 4,
 "nbformat_minor": 2,
 "cells": [
  {
   "source": [
    "# Friction Socks\n",
    "## PH 211 Lab\n",
    "### Feb 21, 2021\n",
    "### Zachary Bochanski\n",
    "\n",
    "This notebook documents the process of determine the velocity and friction of and object on the earths surface using kinematics. The velocity will be slow enough that air drag is neglected. The lab takes a look at the objects motion in two dimentions. After velocity is found, the second part of this notebook explores how to determine the friction force acting on the object. In this case the object subject to these tests is a pair of knitted socks. "
   ],
   "cell_type": "markdown",
   "metadata": {}
  },
  {
   "source": [
    "### Dependencies\n",
    "\n",
    "The following packages are used in assiting with calculations and visualizing the data in this lab.\n",
    "- `numpy`\n",
    "- `matplotlib.pyplot`\n",
    "- `numpy.polynomial`\n",
    "- `scipy.optimize`, specifically `fsolve`"
   ],
   "cell_type": "markdown",
   "metadata": {}
  },
  {
   "cell_type": "code",
   "execution_count": 11,
   "metadata": {},
   "outputs": [],
   "source": [
    "import numpy as np\n",
    "import matplotlib.pyplot as plt\n",
    "from numpy.polynomial import polynomial as ply\n",
    "from scipy.optimize import fsolve"
   ]
  },
  {
   "source": [
    "### Materials\n",
    "\n",
    "- Knitted wool socks\n",
    "- Scale\n",
    "- Tape measure"
   ],
   "cell_type": "markdown",
   "metadata": {}
  },
  {
   "source": [
    "### Concept of Operations/ Procedure\n",
    "\n",
    "1. Collect and convert/transform data etc\n",
    "2. Conduct stats analysis, variability\n",
    "3. Fit curve\n",
    "4. Compart fit to standard kinematic expression (assuming constant acceleration)\n",
    "5. Plot ideal curve to fit\n",
    "6. Is terminal velocity suggested?\n",
    "7. Unknown height"
   ],
   "cell_type": "markdown",
   "metadata": {}
  },
  {
   "source": [
    "### Data Collection\n",
    "\n",
    "The procedure for this lab is a fairly straightforward process:\n",
    "\n",
    "1. Gather materials.\n",
    "2. Roll socks.\n",
    "3. Slide socks off the table.\n",
    "4. Use tape measure to find how far away from the counter they impacted.\n",
    "5. Repeat until you are satisfied.\n",
    "\n",
    "One list of data to record, the distance the object traveled after leaving the counter.\n",
    "\n",
    "1. `sock_range = []` in meters\n",
    "\n",
    "| Range (m): |  |\n",
    "| ------| ------|\n",
    "|1.28 m |1.24 m |\n",
    "|1.28 m |1.27 m |\n",
    "|1.27 m |1.24 m |\n",
    "|1.19 m |1.22 m |\n",
    "|1.24 m |1.30 m |\n",
    "|1.22 m |1.27 m |\n",
    "|1.27 m |1.24 m |\n",
    "|1.22 m |1.22 m |\n",
    "|1.19 m |1.24 m |\n",
    "|1.35 m |1.17 m |\n",
    "|1.24 m |"
   ],
   "cell_type": "markdown",
   "metadata": {}
  },
  {
   "source": [
    "### Record Data\n",
    "\n",
    "Breaking out the 25 foot tape measure, record the impact location from the counter edge for each launch of the sock. \n",
    "\n",
    "Each range is stored in list: \n",
    "\n",
    "- `projectile_range_raw`\n",
    "\n",
    "Loop though and convert each measuremnt to meters, store in list:\n",
    "\n",
    "- `sock_range`\n",
    "\n",
    "For later the data includes counter height:\n",
    "\n",
    "- `counter height`"
   ],
   "cell_type": "markdown",
   "metadata": {}
  },
  {
   "cell_type": "code",
   "execution_count": 40,
   "metadata": {},
   "outputs": [
    {
     "output_type": "stream",
     "name": "stdout",
     "text": [
      "Range in meters of sock ball:\n-----------------------------------\n[1.282702565405131, 1.282702565405131, 1.27000254000508, 1.1938023876047752, 1.2446024892049785, 1.219202438404877, 1.27000254000508, 1.219202438404877, 1.1938023876047752, 1.346202692405385, 1.2446024892049785, 1.27000254000508, 1.2446024892049785, 1.219202438404877, 1.2954025908051816, 1.27000254000508, 1.2446024892049785, 1.219202438404877, 1.2446024892049785, 1.1684023368046736, 1.2446024892049785]\n-----------------------------------\nCounter height 0.91 m\n"
     ]
    }
   ],
   "source": [
    "# list for projectile range\n",
    "projectile_range_raw = [50.5, 50.5, 50, 47, 49, 48, 50, 48, 47, 53, 49, 50, 49, 48, 51, 50, 49, 48, 49, 46, 49 ] # inches\n",
    "\n",
    "# convert inches to meters\n",
    "sock_range = []\n",
    "for num in range(len(projectile_range_raw)):\n",
    "    num = projectile_range_raw[num]/39.37\n",
    "    sock_range.append(num)\n",
    "\n",
    "# counter height\n",
    "counter_height = .91 # meters\n",
    "\n",
    "print(\"Range in meters of sock ball:\")\n",
    "print(\"-----------------------------------\")\n",
    "print(sock_range)\n",
    "print(\"-----------------------------------\")\n",
    "print(\"Counter height\", counter_height, \"m\")"
   ]
  },
  {
   "source": [
    "### Data characteristics\n",
    "\n",
    "Calculate:\n",
    "\n",
    "- `range_mean`\n",
    "- `range_median`\n",
    "- `range_std`\n",
    "- `range_min`\n",
    "- `range_max`\n",
    "\n",
    "Calculate:\n",
    "\n",
    "- `variation`"
   ],
   "cell_type": "markdown",
   "metadata": {}
  },
  {
   "cell_type": "code",
   "execution_count": 45,
   "metadata": {},
   "outputs": [
    {
     "output_type": "stream",
     "name": "stdout",
     "text": [
      "--------------------------\nRange Mean 1.2470215416621313\nRange Median 1.2446024892049785\nRange Std Dev 0.03892156926280366\nRange Min 1.1684023368046736\nRange Max 1.346202692405385\n--------------------------\nVariation 3.121162543104575\n"
     ]
    }
   ],
   "source": [
    "# Calculate data characteristics\n",
    "range_mean = np.mean(sock_range)\n",
    "range_median = np.median(sock_range)\n",
    "range_std = np.std(sock_range)\n",
    "range_min = np.min(sock_range)\n",
    "range_max = np.max(sock_range)\n",
    "\n",
    "# Calculate variation\n",
    "range_variation = 100.*range_std/range_mean\n",
    "\n",
    "# Display\n",
    "print(\"--------------------------\")\n",
    "print(\"Range Mean\", range_mean)\n",
    "print(\"Range Median\", range_median)\n",
    "print(\"Range Std Dev\", range_std)\n",
    "print(\"Range Min\", range_min)\n",
    "print(\"Range Max\", range_max)\n",
    "print(\"--------------------------\")\n",
    "print(\"Variation\", range_variation)"
   ]
  },
  {
   "source": [
    "![FBD_lab6](https://github.com/ztbochanski/physics-211/raw/main/images/Lab6FBD.jpg)"
   ],
   "cell_type": "markdown",
   "metadata": {}
  },
  {
   "cell_type": "code",
   "execution_count": null,
   "metadata": {},
   "outputs": [],
   "source": []
  }
 ]
}