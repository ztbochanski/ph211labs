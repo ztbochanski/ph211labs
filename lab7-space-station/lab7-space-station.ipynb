{
 "metadata": {
  "language_info": {
   "codemirror_mode": {
    "name": "ipython",
    "version": 3
   },
   "file_extension": ".py",
   "mimetype": "text/x-python",
   "name": "python",
   "nbconvert_exporter": "python",
   "pygments_lexer": "ipython3",
   "version": "3.9.2-final"
  },
  "orig_nbformat": 2,
  "kernelspec": {
   "name": "python3",
   "display_name": "Python 3.9.2 64-bit ('jlabenv': venv)",
   "metadata": {
    "interpreter": {
     "hash": "596b7cc4f02652a8b53c7d10df5b3a05b89b701c506ccbf1bcfef4ff758de14b"
    }
   }
  }
 },
 "nbformat": 4,
 "nbformat_minor": 2,
 "cells": [
  {
   "source": [
    "# Space Station Design\n",
    "## PH 211 Lab\n",
    "### Feburary 28, 2021\n",
    "### Zachary Bochanski\n",
    "\n",
    "This notebook provides documentation supporting the design of a trash can style space colony. The key features focused on in this design are the size and ritation rate of this colony to practically simulate a feeling of gravit (normal force) acting on a human living in the colony."
   ],
   "cell_type": "markdown",
   "metadata": {}
  },
  {
   "source": [
    "### Dependencies\n",
    "\n",
    "`numpy` math library contains many tools used in this lab for computations and analysis.\n",
    "`matplotlib` plotting library is used to create visual aids for this lab\n",
    "\n",
    "The following cell contains these imports."
   ],
   "cell_type": "markdown",
   "metadata": {}
  },
  {
   "cell_type": "code",
   "execution_count": 1,
   "metadata": {},
   "outputs": [],
   "source": [
    "import numpy as np\n",
    "import matplotlib.pyplot as plt\n",
    "from numpy.polynomial import polynomial as ply"
   ]
  },
  {
   "source": [
    "### Tools\n",
    "\n",
    "Circular motion:\n",
    "\n",
    ".$$\\large \\sum_{all} F_{radial} = m\\frac{v^2}{r}$$\n",
    "\n"
   ],
   "cell_type": "markdown",
   "metadata": {}
  },
  {
   "source": [
    "### Station Requirements\n",
    "\n",
    "1. 1 g acceleration felt\n",
    "2. 20m above the floor acceleration must be 95% of 1 g\n",
    "3. $.8km^2$ area\n",
    "4. period of rotation > 30s\n",
    "5. location at L4 or L5 (Lagrange points) in earth - moon system"
   ],
   "cell_type": "markdown",
   "metadata": {}
  },
  {
   "cell_type": "code",
   "execution_count": null,
   "metadata": {},
   "outputs": [],
   "source": []
  }
 ]
}